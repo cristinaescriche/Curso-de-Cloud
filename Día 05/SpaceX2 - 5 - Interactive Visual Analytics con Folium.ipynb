{
  "cells": [
    {
      "cell_type": "markdown",
      "metadata": {
        "id": "u4iGxxGKQQ_5"
      },
      "source": [
        "# Etapa 5: **Análisis de las ubicaciones de los sitios de lanzamiento con Folium**\n"
      ]
    },
    {
      "cell_type": "markdown",
      "metadata": {
        "id": "Kq1zsSpVQQ_6"
      },
      "source": [
        "La tasa de éxito del lanzamiento puede depender de muchos factores, como la masa de la carga útil, el tipo de órbita, etc. También puede depender de la ubicación y las proximidades de un lugar de lanzamiento, es decir, de la posición inicial de las trayectorias de los cohetes. Encontrar una ubicación óptima para la construcción de una base de lanzamiento implica ciertamente muchos factores y es de esperar que podamos descubrir algunos de ellos analizando las ubicaciones de las bases de lanzamiento existentes."
      ]
    },
    {
      "cell_type": "markdown",
      "metadata": {
        "id": "fjDijuSvQQ_6"
      },
      "source": [
        "En los anteriores laboratorios de análisis de datos exploratorios, has visualizado el conjunto de datos de lanzamiento de SpaceX utilizando `matplotlib` y `seaborn` y has descubierto algunas correlaciones preliminares entre el lugar de lanzamiento y las tasas de éxito. En este laboratorio, realizarás un análisis visual más interactivo utilizando `Folium`.\n"
      ]
    },
    {
      "cell_type": "markdown",
      "metadata": {
        "id": "FAeqfNLPQQ_7"
      },
      "source": [
        "## Objetivos\n"
      ]
    },
    {
      "cell_type": "markdown",
      "metadata": {
        "id": "hP5yfDImQQ_7"
      },
      "source": [
        "Este laboratorio contiene las siguientes tareas:\n",
        "\n",
        "* **Tarea 1:** Marcar todos los sitios de lanzamiento en un mapa\n",
        "* **Tarea 2:** Marcar en el mapa los lanzamientos exitosos/fracasados de cada sitio\n",
        "* **Tarea 3:** Calcular las distancias entre un sitio de lanzamiento y sus proximidades\n",
        "\n",
        "Después de completar las tareas anteriores, deberías ser capaz de encontrar algunos patrones geográficos sobre los sitios de lanzamiento.\n"
      ]
    },
    {
      "cell_type": "markdown",
      "metadata": {
        "id": "zVfjqNVRQQ_8"
      },
      "source": [
        "Primero vamos a importar los paquetes de Python necesarios para este laboratorio:\n"
      ]
    },
    {
      "cell_type": "code",
      "execution_count": 1,
      "metadata": {
        "id": "J0z0kBmpQQ_8"
      },
      "outputs": [],
      "source": [
        "import os\n",
        "import pandas as pd\n",
        "try:\n",
        "    import folium\n",
        "except ImportError as e:\n",
        "    !pip install folium wget\n",
        "    import folium"
      ]
    },
    {
      "cell_type": "code",
      "execution_count": 2,
      "metadata": {
        "id": "vDu3IwDmQQ_9"
      },
      "outputs": [],
      "source": [
        "from folium.plugins import MarkerCluster\n",
        "from folium.plugins import MousePosition\n",
        "from folium.features import DivIcon"
      ]
    },
    {
      "cell_type": "markdown",
      "metadata": {
        "id": "-SNPOBkuQQ__"
      },
      "source": [
        "## Tarea 1: Marcar todos los lugares de lanzamiento en un mapa\n"
      ]
    },
    {
      "cell_type": "markdown",
      "metadata": {
        "id": "Ld2TQUNaQQ__"
      },
      "source": [
        "En primer lugar, vamos a intentar añadir la ubicación de cada sitio en un mapa utilizando las coordenadas de latitud y longitud del sitio\n"
      ]
    },
    {
      "cell_type": "markdown",
      "metadata": {
        "id": "EjavuY-7QQ__"
      },
      "source": [
        "El siguiente conjunto de datos con el nombre `spacex_launch_geo.csv` es un conjunto de datos aumentado con la latitud y la longitud añadidas para cada sitio.\n"
      ]
    },
    {
      "cell_type": "code",
      "source": [
        "from google.colab import drive\n",
        "drive.mount('/content/drive/')"
      ],
      "metadata": {
        "colab": {
          "base_uri": "https://localhost:8080/"
        },
        "id": "9FccCSCLlEME",
        "outputId": "90ac55cf-8a21-461e-9e1e-7fc2fcf152d9"
      },
      "execution_count": 3,
      "outputs": [
        {
          "output_type": "stream",
          "name": "stdout",
          "text": [
            "Mounted at /content/drive/\n"
          ]
        }
      ]
    },
    {
      "cell_type": "code",
      "execution_count": 4,
      "metadata": {
        "colab": {
          "base_uri": "https://localhost:8080/",
          "height": 371
        },
        "id": "ZUzbXYQJQRAA",
        "outputId": "f99e60b1-696f-4c03-c687-e99ec270496c"
      },
      "outputs": [
        {
          "output_type": "execute_result",
          "data": {
            "text/plain": [
              "   Flight Number        Date Time (UTC) Booster Version  Launch Site  \\\n",
              "0              1  2010-06-04   18:45:00  F9 v1.0  B0003  CCAFS LC-40   \n",
              "1              2  2010-12-08   15:43:00  F9 v1.0  B0004  CCAFS LC-40   \n",
              "2              3  2012-05-22    7:44:00  F9 v1.0  B0005  CCAFS LC-40   \n",
              "3              4  2012-10-08    0:35:00  F9 v1.0  B0006  CCAFS LC-40   \n",
              "4              5  2013-03-01   15:10:00  F9 v1.0  B0007  CCAFS LC-40   \n",
              "\n",
              "                                             Payload  Payload Mass (kg)  \\\n",
              "0               Dragon Spacecraft Qualification Unit                0.0   \n",
              "1  Dragon demo flight C1, two CubeSats,  barrel o...                0.0   \n",
              "2                             Dragon demo flight C2+              525.0   \n",
              "3                                       SpaceX CRS-1              500.0   \n",
              "4                                       SpaceX CRS-2              677.0   \n",
              "\n",
              "       Orbit         Customer        Landing Outcome  class        Lat  \\\n",
              "0        LEO           SpaceX  Failure   (parachute)      0  28.562302   \n",
              "1  LEO (ISS)  NASA (COTS) NRO  Failure   (parachute)      0  28.562302   \n",
              "2  LEO (ISS)      NASA (COTS)             No attempt      0  28.562302   \n",
              "3  LEO (ISS)       NASA (CRS)             No attempt      0  28.562302   \n",
              "4  LEO (ISS)       NASA (CRS)             No attempt      0  28.562302   \n",
              "\n",
              "        Long  \n",
              "0 -80.577356  \n",
              "1 -80.577356  \n",
              "2 -80.577356  \n",
              "3 -80.577356  \n",
              "4 -80.577356  "
            ],
            "text/html": [
              "\n",
              "  <div id=\"df-dcebdc03-f9ec-400f-8442-9cd00d9ab9e2\">\n",
              "    <div class=\"colab-df-container\">\n",
              "      <div>\n",
              "<style scoped>\n",
              "    .dataframe tbody tr th:only-of-type {\n",
              "        vertical-align: middle;\n",
              "    }\n",
              "\n",
              "    .dataframe tbody tr th {\n",
              "        vertical-align: top;\n",
              "    }\n",
              "\n",
              "    .dataframe thead th {\n",
              "        text-align: right;\n",
              "    }\n",
              "</style>\n",
              "<table border=\"1\" class=\"dataframe\">\n",
              "  <thead>\n",
              "    <tr style=\"text-align: right;\">\n",
              "      <th></th>\n",
              "      <th>Flight Number</th>\n",
              "      <th>Date</th>\n",
              "      <th>Time (UTC)</th>\n",
              "      <th>Booster Version</th>\n",
              "      <th>Launch Site</th>\n",
              "      <th>Payload</th>\n",
              "      <th>Payload Mass (kg)</th>\n",
              "      <th>Orbit</th>\n",
              "      <th>Customer</th>\n",
              "      <th>Landing Outcome</th>\n",
              "      <th>class</th>\n",
              "      <th>Lat</th>\n",
              "      <th>Long</th>\n",
              "    </tr>\n",
              "  </thead>\n",
              "  <tbody>\n",
              "    <tr>\n",
              "      <th>0</th>\n",
              "      <td>1</td>\n",
              "      <td>2010-06-04</td>\n",
              "      <td>18:45:00</td>\n",
              "      <td>F9 v1.0  B0003</td>\n",
              "      <td>CCAFS LC-40</td>\n",
              "      <td>Dragon Spacecraft Qualification Unit</td>\n",
              "      <td>0.0</td>\n",
              "      <td>LEO</td>\n",
              "      <td>SpaceX</td>\n",
              "      <td>Failure   (parachute)</td>\n",
              "      <td>0</td>\n",
              "      <td>28.562302</td>\n",
              "      <td>-80.577356</td>\n",
              "    </tr>\n",
              "    <tr>\n",
              "      <th>1</th>\n",
              "      <td>2</td>\n",
              "      <td>2010-12-08</td>\n",
              "      <td>15:43:00</td>\n",
              "      <td>F9 v1.0  B0004</td>\n",
              "      <td>CCAFS LC-40</td>\n",
              "      <td>Dragon demo flight C1, two CubeSats,  barrel o...</td>\n",
              "      <td>0.0</td>\n",
              "      <td>LEO (ISS)</td>\n",
              "      <td>NASA (COTS) NRO</td>\n",
              "      <td>Failure   (parachute)</td>\n",
              "      <td>0</td>\n",
              "      <td>28.562302</td>\n",
              "      <td>-80.577356</td>\n",
              "    </tr>\n",
              "    <tr>\n",
              "      <th>2</th>\n",
              "      <td>3</td>\n",
              "      <td>2012-05-22</td>\n",
              "      <td>7:44:00</td>\n",
              "      <td>F9 v1.0  B0005</td>\n",
              "      <td>CCAFS LC-40</td>\n",
              "      <td>Dragon demo flight C2+</td>\n",
              "      <td>525.0</td>\n",
              "      <td>LEO (ISS)</td>\n",
              "      <td>NASA (COTS)</td>\n",
              "      <td>No attempt</td>\n",
              "      <td>0</td>\n",
              "      <td>28.562302</td>\n",
              "      <td>-80.577356</td>\n",
              "    </tr>\n",
              "    <tr>\n",
              "      <th>3</th>\n",
              "      <td>4</td>\n",
              "      <td>2012-10-08</td>\n",
              "      <td>0:35:00</td>\n",
              "      <td>F9 v1.0  B0006</td>\n",
              "      <td>CCAFS LC-40</td>\n",
              "      <td>SpaceX CRS-1</td>\n",
              "      <td>500.0</td>\n",
              "      <td>LEO (ISS)</td>\n",
              "      <td>NASA (CRS)</td>\n",
              "      <td>No attempt</td>\n",
              "      <td>0</td>\n",
              "      <td>28.562302</td>\n",
              "      <td>-80.577356</td>\n",
              "    </tr>\n",
              "    <tr>\n",
              "      <th>4</th>\n",
              "      <td>5</td>\n",
              "      <td>2013-03-01</td>\n",
              "      <td>15:10:00</td>\n",
              "      <td>F9 v1.0  B0007</td>\n",
              "      <td>CCAFS LC-40</td>\n",
              "      <td>SpaceX CRS-2</td>\n",
              "      <td>677.0</td>\n",
              "      <td>LEO (ISS)</td>\n",
              "      <td>NASA (CRS)</td>\n",
              "      <td>No attempt</td>\n",
              "      <td>0</td>\n",
              "      <td>28.562302</td>\n",
              "      <td>-80.577356</td>\n",
              "    </tr>\n",
              "  </tbody>\n",
              "</table>\n",
              "</div>\n",
              "      <button class=\"colab-df-convert\" onclick=\"convertToInteractive('df-dcebdc03-f9ec-400f-8442-9cd00d9ab9e2')\"\n",
              "              title=\"Convert this dataframe to an interactive table.\"\n",
              "              style=\"display:none;\">\n",
              "        \n",
              "  <svg xmlns=\"http://www.w3.org/2000/svg\" height=\"24px\"viewBox=\"0 0 24 24\"\n",
              "       width=\"24px\">\n",
              "    <path d=\"M0 0h24v24H0V0z\" fill=\"none\"/>\n",
              "    <path d=\"M18.56 5.44l.94 2.06.94-2.06 2.06-.94-2.06-.94-.94-2.06-.94 2.06-2.06.94zm-11 1L8.5 8.5l.94-2.06 2.06-.94-2.06-.94L8.5 2.5l-.94 2.06-2.06.94zm10 10l.94 2.06.94-2.06 2.06-.94-2.06-.94-.94-2.06-.94 2.06-2.06.94z\"/><path d=\"M17.41 7.96l-1.37-1.37c-.4-.4-.92-.59-1.43-.59-.52 0-1.04.2-1.43.59L10.3 9.45l-7.72 7.72c-.78.78-.78 2.05 0 2.83L4 21.41c.39.39.9.59 1.41.59.51 0 1.02-.2 1.41-.59l7.78-7.78 2.81-2.81c.8-.78.8-2.07 0-2.86zM5.41 20L4 18.59l7.72-7.72 1.47 1.35L5.41 20z\"/>\n",
              "  </svg>\n",
              "      </button>\n",
              "      \n",
              "  <style>\n",
              "    .colab-df-container {\n",
              "      display:flex;\n",
              "      flex-wrap:wrap;\n",
              "      gap: 12px;\n",
              "    }\n",
              "\n",
              "    .colab-df-convert {\n",
              "      background-color: #E8F0FE;\n",
              "      border: none;\n",
              "      border-radius: 50%;\n",
              "      cursor: pointer;\n",
              "      display: none;\n",
              "      fill: #1967D2;\n",
              "      height: 32px;\n",
              "      padding: 0 0 0 0;\n",
              "      width: 32px;\n",
              "    }\n",
              "\n",
              "    .colab-df-convert:hover {\n",
              "      background-color: #E2EBFA;\n",
              "      box-shadow: 0px 1px 2px rgba(60, 64, 67, 0.3), 0px 1px 3px 1px rgba(60, 64, 67, 0.15);\n",
              "      fill: #174EA6;\n",
              "    }\n",
              "\n",
              "    [theme=dark] .colab-df-convert {\n",
              "      background-color: #3B4455;\n",
              "      fill: #D2E3FC;\n",
              "    }\n",
              "\n",
              "    [theme=dark] .colab-df-convert:hover {\n",
              "      background-color: #434B5C;\n",
              "      box-shadow: 0px 1px 3px 1px rgba(0, 0, 0, 0.15);\n",
              "      filter: drop-shadow(0px 1px 2px rgba(0, 0, 0, 0.3));\n",
              "      fill: #FFFFFF;\n",
              "    }\n",
              "  </style>\n",
              "\n",
              "      <script>\n",
              "        const buttonEl =\n",
              "          document.querySelector('#df-dcebdc03-f9ec-400f-8442-9cd00d9ab9e2 button.colab-df-convert');\n",
              "        buttonEl.style.display =\n",
              "          google.colab.kernel.accessAllowed ? 'block' : 'none';\n",
              "\n",
              "        async function convertToInteractive(key) {\n",
              "          const element = document.querySelector('#df-dcebdc03-f9ec-400f-8442-9cd00d9ab9e2');\n",
              "          const dataTable =\n",
              "            await google.colab.kernel.invokeFunction('convertToInteractive',\n",
              "                                                     [key], {});\n",
              "          if (!dataTable) return;\n",
              "\n",
              "          const docLinkHtml = 'Like what you see? Visit the ' +\n",
              "            '<a target=\"_blank\" href=https://colab.research.google.com/notebooks/data_table.ipynb>data table notebook</a>'\n",
              "            + ' to learn more about interactive tables.';\n",
              "          element.innerHTML = '';\n",
              "          dataTable['output_type'] = 'display_data';\n",
              "          await google.colab.output.renderOutput(dataTable, element);\n",
              "          const docLink = document.createElement('div');\n",
              "          docLink.innerHTML = docLinkHtml;\n",
              "          element.appendChild(docLink);\n",
              "        }\n",
              "      </script>\n",
              "    </div>\n",
              "  </div>\n",
              "  "
            ]
          },
          "metadata": {},
          "execution_count": 4
        }
      ],
      "source": [
        "spacex_csv_file = '/content/drive/MyDrive/Colab Notebooks/CSV/spacex_launch_geo.csv'\n",
        "spacex_df=pd.read_csv(spacex_csv_file)\n",
        "spacex_df.head()"
      ]
    },
    {
      "cell_type": "markdown",
      "metadata": {
        "id": "ploBjcdGQRAA"
      },
      "source": [
        "Ahora, puedes echar un vistazo a las coordenadas de cada sitio.\n"
      ]
    },
    {
      "cell_type": "code",
      "source": [
        "# Selecciona las columnas relevantes: `Launch Site`, `Lat(Latitude)`, `Long(Longitude)`, `class`\n",
        "#Inserta tu código aquí\n",
        "spacex_df[['Launch Site', 'Lat', 'Long', 'class']]"
      ],
      "metadata": {
        "id": "470ODmeZQB_w"
      },
      "execution_count": null,
      "outputs": []
    },
    {
      "cell_type": "code",
      "execution_count": 6,
      "metadata": {
        "id": "3LZBCyvwQRAA",
        "outputId": "5ebb7a65-8ecd-42b5-f9a9-19edad30b4a1",
        "colab": {
          "base_uri": "https://localhost:8080/",
          "height": 175
        }
      },
      "outputs": [
        {
          "output_type": "execute_result",
          "data": {
            "text/plain": [
              "    Launch Site        Lat        Long\n",
              "0   CCAFS LC-40  28.562302  -80.577356\n",
              "1  CCAFS SLC-40  28.563197  -80.576820\n",
              "2    KSC LC-39A  28.573255  -80.646895\n",
              "3   VAFB SLC-4E  34.632834 -120.610745"
            ],
            "text/html": [
              "\n",
              "  <div id=\"df-3fc32822-deed-4a97-92a6-feec2e94c0d4\">\n",
              "    <div class=\"colab-df-container\">\n",
              "      <div>\n",
              "<style scoped>\n",
              "    .dataframe tbody tr th:only-of-type {\n",
              "        vertical-align: middle;\n",
              "    }\n",
              "\n",
              "    .dataframe tbody tr th {\n",
              "        vertical-align: top;\n",
              "    }\n",
              "\n",
              "    .dataframe thead th {\n",
              "        text-align: right;\n",
              "    }\n",
              "</style>\n",
              "<table border=\"1\" class=\"dataframe\">\n",
              "  <thead>\n",
              "    <tr style=\"text-align: right;\">\n",
              "      <th></th>\n",
              "      <th>Launch Site</th>\n",
              "      <th>Lat</th>\n",
              "      <th>Long</th>\n",
              "    </tr>\n",
              "  </thead>\n",
              "  <tbody>\n",
              "    <tr>\n",
              "      <th>0</th>\n",
              "      <td>CCAFS LC-40</td>\n",
              "      <td>28.562302</td>\n",
              "      <td>-80.577356</td>\n",
              "    </tr>\n",
              "    <tr>\n",
              "      <th>1</th>\n",
              "      <td>CCAFS SLC-40</td>\n",
              "      <td>28.563197</td>\n",
              "      <td>-80.576820</td>\n",
              "    </tr>\n",
              "    <tr>\n",
              "      <th>2</th>\n",
              "      <td>KSC LC-39A</td>\n",
              "      <td>28.573255</td>\n",
              "      <td>-80.646895</td>\n",
              "    </tr>\n",
              "    <tr>\n",
              "      <th>3</th>\n",
              "      <td>VAFB SLC-4E</td>\n",
              "      <td>34.632834</td>\n",
              "      <td>-120.610745</td>\n",
              "    </tr>\n",
              "  </tbody>\n",
              "</table>\n",
              "</div>\n",
              "      <button class=\"colab-df-convert\" onclick=\"convertToInteractive('df-3fc32822-deed-4a97-92a6-feec2e94c0d4')\"\n",
              "              title=\"Convert this dataframe to an interactive table.\"\n",
              "              style=\"display:none;\">\n",
              "        \n",
              "  <svg xmlns=\"http://www.w3.org/2000/svg\" height=\"24px\"viewBox=\"0 0 24 24\"\n",
              "       width=\"24px\">\n",
              "    <path d=\"M0 0h24v24H0V0z\" fill=\"none\"/>\n",
              "    <path d=\"M18.56 5.44l.94 2.06.94-2.06 2.06-.94-2.06-.94-.94-2.06-.94 2.06-2.06.94zm-11 1L8.5 8.5l.94-2.06 2.06-.94-2.06-.94L8.5 2.5l-.94 2.06-2.06.94zm10 10l.94 2.06.94-2.06 2.06-.94-2.06-.94-.94-2.06-.94 2.06-2.06.94z\"/><path d=\"M17.41 7.96l-1.37-1.37c-.4-.4-.92-.59-1.43-.59-.52 0-1.04.2-1.43.59L10.3 9.45l-7.72 7.72c-.78.78-.78 2.05 0 2.83L4 21.41c.39.39.9.59 1.41.59.51 0 1.02-.2 1.41-.59l7.78-7.78 2.81-2.81c.8-.78.8-2.07 0-2.86zM5.41 20L4 18.59l7.72-7.72 1.47 1.35L5.41 20z\"/>\n",
              "  </svg>\n",
              "      </button>\n",
              "      \n",
              "  <style>\n",
              "    .colab-df-container {\n",
              "      display:flex;\n",
              "      flex-wrap:wrap;\n",
              "      gap: 12px;\n",
              "    }\n",
              "\n",
              "    .colab-df-convert {\n",
              "      background-color: #E8F0FE;\n",
              "      border: none;\n",
              "      border-radius: 50%;\n",
              "      cursor: pointer;\n",
              "      display: none;\n",
              "      fill: #1967D2;\n",
              "      height: 32px;\n",
              "      padding: 0 0 0 0;\n",
              "      width: 32px;\n",
              "    }\n",
              "\n",
              "    .colab-df-convert:hover {\n",
              "      background-color: #E2EBFA;\n",
              "      box-shadow: 0px 1px 2px rgba(60, 64, 67, 0.3), 0px 1px 3px 1px rgba(60, 64, 67, 0.15);\n",
              "      fill: #174EA6;\n",
              "    }\n",
              "\n",
              "    [theme=dark] .colab-df-convert {\n",
              "      background-color: #3B4455;\n",
              "      fill: #D2E3FC;\n",
              "    }\n",
              "\n",
              "    [theme=dark] .colab-df-convert:hover {\n",
              "      background-color: #434B5C;\n",
              "      box-shadow: 0px 1px 3px 1px rgba(0, 0, 0, 0.15);\n",
              "      filter: drop-shadow(0px 1px 2px rgba(0, 0, 0, 0.3));\n",
              "      fill: #FFFFFF;\n",
              "    }\n",
              "  </style>\n",
              "\n",
              "      <script>\n",
              "        const buttonEl =\n",
              "          document.querySelector('#df-3fc32822-deed-4a97-92a6-feec2e94c0d4 button.colab-df-convert');\n",
              "        buttonEl.style.display =\n",
              "          google.colab.kernel.accessAllowed ? 'block' : 'none';\n",
              "\n",
              "        async function convertToInteractive(key) {\n",
              "          const element = document.querySelector('#df-3fc32822-deed-4a97-92a6-feec2e94c0d4');\n",
              "          const dataTable =\n",
              "            await google.colab.kernel.invokeFunction('convertToInteractive',\n",
              "                                                     [key], {});\n",
              "          if (!dataTable) return;\n",
              "\n",
              "          const docLinkHtml = 'Like what you see? Visit the ' +\n",
              "            '<a target=\"_blank\" href=https://colab.research.google.com/notebooks/data_table.ipynb>data table notebook</a>'\n",
              "            + ' to learn more about interactive tables.';\n",
              "          element.innerHTML = '';\n",
              "          dataTable['output_type'] = 'display_data';\n",
              "          await google.colab.output.renderOutput(dataTable, element);\n",
              "          const docLink = document.createElement('div');\n",
              "          docLink.innerHTML = docLinkHtml;\n",
              "          element.appendChild(docLink);\n",
              "        }\n",
              "      </script>\n",
              "    </div>\n",
              "  </div>\n",
              "  "
            ]
          },
          "metadata": {},
          "execution_count": 6
        }
      ],
      "source": [
        "launch_sites_df = spacex_df.groupby(['Launch Site'], as_index=False).first()\n",
        "launch_sites_df = launch_sites_df[['Launch Site', 'Lat', 'Long']]\n",
        "launch_sites_df"
      ]
    },
    {
      "cell_type": "markdown",
      "metadata": {
        "id": "q0pr2T_SQRAB"
      },
      "source": [
        "Las coordenadas anteriores son simples números que no pueden darle ninguna idea intuitiva sobre dónde están esos lugares de lanzamiento. Si eres muy bueno en geografía, puedes interpretar esos números directamente en tu mente. Si no, tampoco pasa nada. Visualicemos esas ubicaciones fijándolas en un mapa.\n"
      ]
    },
    {
      "cell_type": "markdown",
      "metadata": {
        "id": "_JZu7WpAQRAB"
      },
      "source": [
        "Primero necesitamos crear un objeto `Map` de folium, con una ubicación central inicial para ser el Centro Espacial Johnson de la NASA en Houston, Texas."
      ]
    },
    {
      "cell_type": "code",
      "execution_count": 12,
      "metadata": {
        "id": "ThFChTB8QRAC"
      },
      "outputs": [],
      "source": [
        "nasa_coordinate = [29.559684888503615, -95.0830971930759]\n",
        "site_map = folium.Map(location=nasa_coordinate, zoom_start=10)"
      ]
    },
    {
      "cell_type": "markdown",
      "metadata": {
        "id": "5_CdnqVVQRAC"
      },
      "source": [
        "Podríamos utilizar `folium.Circle` para añadir un área circular resaltada con una etiqueta de texto en una coordenada específica. Por ejemplo,\n"
      ]
    },
    {
      "cell_type": "code",
      "execution_count": 8,
      "metadata": {
        "id": "IcAfjLuyQRAC",
        "outputId": "3cf88ccb-fc4e-443d-b73e-cd0562ff4a8a",
        "colab": {
          "base_uri": "https://localhost:8080/",
          "height": 685
        }
      },
      "outputs": [
        {
          "output_type": "execute_result",
          "data": {
            "text/plain": [
              "<folium.folium.Map at 0x7f714a09b190>"
            ],
            "text/html": [
              "<div style=\"width:100%;\"><div style=\"position:relative;width:100%;height:0;padding-bottom:60%;\"><span style=\"color:#565656\">Make this Notebook Trusted to load map: File -> Trust Notebook</span><iframe srcdoc=\"&lt;!DOCTYPE html&gt;\n",
              "&lt;html&gt;\n",
              "&lt;head&gt;\n",
              "    \n",
              "    &lt;meta http-equiv=&quot;content-type&quot; content=&quot;text/html; charset=UTF-8&quot; /&gt;\n",
              "    \n",
              "        &lt;script&gt;\n",
              "            L_NO_TOUCH = false;\n",
              "            L_DISABLE_3D = false;\n",
              "        &lt;/script&gt;\n",
              "    \n",
              "    &lt;style&gt;html, body {width: 100%;height: 100%;margin: 0;padding: 0;}&lt;/style&gt;\n",
              "    &lt;style&gt;#map {position:absolute;top:0;bottom:0;right:0;left:0;}&lt;/style&gt;\n",
              "    &lt;script src=&quot;https://cdn.jsdelivr.net/npm/leaflet@1.9.3/dist/leaflet.js&quot;&gt;&lt;/script&gt;\n",
              "    &lt;script src=&quot;https://code.jquery.com/jquery-1.12.4.min.js&quot;&gt;&lt;/script&gt;\n",
              "    &lt;script src=&quot;https://cdn.jsdelivr.net/npm/bootstrap@5.2.2/dist/js/bootstrap.bundle.min.js&quot;&gt;&lt;/script&gt;\n",
              "    &lt;script src=&quot;https://cdnjs.cloudflare.com/ajax/libs/Leaflet.awesome-markers/2.0.2/leaflet.awesome-markers.js&quot;&gt;&lt;/script&gt;\n",
              "    &lt;link rel=&quot;stylesheet&quot; href=&quot;https://cdn.jsdelivr.net/npm/leaflet@1.9.3/dist/leaflet.css&quot;/&gt;\n",
              "    &lt;link rel=&quot;stylesheet&quot; href=&quot;https://cdn.jsdelivr.net/npm/bootstrap@5.2.2/dist/css/bootstrap.min.css&quot;/&gt;\n",
              "    &lt;link rel=&quot;stylesheet&quot; href=&quot;https://netdna.bootstrapcdn.com/bootstrap/3.0.0/css/bootstrap.min.css&quot;/&gt;\n",
              "    &lt;link rel=&quot;stylesheet&quot; href=&quot;https://cdn.jsdelivr.net/npm/@fortawesome/fontawesome-free@6.2.0/css/all.min.css&quot;/&gt;\n",
              "    &lt;link rel=&quot;stylesheet&quot; href=&quot;https://cdnjs.cloudflare.com/ajax/libs/Leaflet.awesome-markers/2.0.2/leaflet.awesome-markers.css&quot;/&gt;\n",
              "    &lt;link rel=&quot;stylesheet&quot; href=&quot;https://cdn.jsdelivr.net/gh/python-visualization/folium/folium/templates/leaflet.awesome.rotate.min.css&quot;/&gt;\n",
              "    \n",
              "            &lt;meta name=&quot;viewport&quot; content=&quot;width=device-width,\n",
              "                initial-scale=1.0, maximum-scale=1.0, user-scalable=no&quot; /&gt;\n",
              "            &lt;style&gt;\n",
              "                #map_e8d629755b857de35ef57759bc59e9ea {\n",
              "                    position: relative;\n",
              "                    width: 100.0%;\n",
              "                    height: 100.0%;\n",
              "                    left: 0.0%;\n",
              "                    top: 0.0%;\n",
              "                }\n",
              "                .leaflet-container { font-size: 1rem; }\n",
              "            &lt;/style&gt;\n",
              "        \n",
              "&lt;/head&gt;\n",
              "&lt;body&gt;\n",
              "    \n",
              "    \n",
              "            &lt;div class=&quot;folium-map&quot; id=&quot;map_e8d629755b857de35ef57759bc59e9ea&quot; &gt;&lt;/div&gt;\n",
              "        \n",
              "&lt;/body&gt;\n",
              "&lt;script&gt;\n",
              "    \n",
              "    \n",
              "            var map_e8d629755b857de35ef57759bc59e9ea = L.map(\n",
              "                &quot;map_e8d629755b857de35ef57759bc59e9ea&quot;,\n",
              "                {\n",
              "                    center: [29.559684888503615, -95.0830971930759],\n",
              "                    crs: L.CRS.EPSG3857,\n",
              "                    zoom: 10,\n",
              "                    zoomControl: true,\n",
              "                    preferCanvas: false,\n",
              "                }\n",
              "            );\n",
              "\n",
              "            \n",
              "\n",
              "        \n",
              "    \n",
              "            var tile_layer_3860a9537cc38d63358b1a8dea4ee3d2 = L.tileLayer(\n",
              "                &quot;https://{s}.tile.openstreetmap.org/{z}/{x}/{y}.png&quot;,\n",
              "                {&quot;attribution&quot;: &quot;Data by \\u0026copy; \\u003ca target=\\&quot;_blank\\&quot; href=\\&quot;http://openstreetmap.org\\&quot;\\u003eOpenStreetMap\\u003c/a\\u003e, under \\u003ca target=\\&quot;_blank\\&quot; href=\\&quot;http://www.openstreetmap.org/copyright\\&quot;\\u003eODbL\\u003c/a\\u003e.&quot;, &quot;detectRetina&quot;: false, &quot;maxNativeZoom&quot;: 18, &quot;maxZoom&quot;: 18, &quot;minZoom&quot;: 0, &quot;noWrap&quot;: false, &quot;opacity&quot;: 1, &quot;subdomains&quot;: &quot;abc&quot;, &quot;tms&quot;: false}\n",
              "            ).addTo(map_e8d629755b857de35ef57759bc59e9ea);\n",
              "        \n",
              "    \n",
              "            var circle_52da1b2e94cc383c6aa522c949b6be26 = L.circle(\n",
              "                [29.559684888503615, -95.0830971930759],\n",
              "                {&quot;bubblingMouseEvents&quot;: true, &quot;color&quot;: &quot;#d35400&quot;, &quot;dashArray&quot;: null, &quot;dashOffset&quot;: null, &quot;fill&quot;: true, &quot;fillColor&quot;: &quot;#d35400&quot;, &quot;fillOpacity&quot;: 0.2, &quot;fillRule&quot;: &quot;evenodd&quot;, &quot;lineCap&quot;: &quot;round&quot;, &quot;lineJoin&quot;: &quot;round&quot;, &quot;opacity&quot;: 1.0, &quot;radius&quot;: 1000, &quot;stroke&quot;: true, &quot;weight&quot;: 3}\n",
              "            ).addTo(map_e8d629755b857de35ef57759bc59e9ea);\n",
              "        \n",
              "    \n",
              "        var popup_16eb47161b601429f166fb682639da6c = L.popup({&quot;maxWidth&quot;: &quot;100%&quot;});\n",
              "\n",
              "        \n",
              "            \n",
              "                var html_7858b36d336404b7c0086a1d6e031ba4 = $(`&lt;div id=&quot;html_7858b36d336404b7c0086a1d6e031ba4&quot; style=&quot;width: 100.0%; height: 100.0%;&quot;&gt;NASA Johnson Space Center&lt;/div&gt;`)[0];\n",
              "                popup_16eb47161b601429f166fb682639da6c.setContent(html_7858b36d336404b7c0086a1d6e031ba4);\n",
              "            \n",
              "        \n",
              "\n",
              "        circle_52da1b2e94cc383c6aa522c949b6be26.bindPopup(popup_16eb47161b601429f166fb682639da6c)\n",
              "        ;\n",
              "\n",
              "        \n",
              "    \n",
              "    \n",
              "            var marker_c4398672080bdf0dac5a8d31303a3fdc = L.marker(\n",
              "                [29.559684888503615, -95.0830971930759],\n",
              "                {}\n",
              "            ).addTo(map_e8d629755b857de35ef57759bc59e9ea);\n",
              "        \n",
              "    \n",
              "            var div_icon_3b5ece21294c81bac9fcce84f62c8a0e = L.divIcon({&quot;className&quot;: &quot;empty&quot;, &quot;html&quot;: &quot;\\u003cdiv style=\\&quot;font-size: 12; color:#d35400;\\&quot;\\u003e\\u003cb\\u003eNASA JSC\\u003c/b\\u003e\\u003c/div\\u003e&quot;, &quot;iconAnchor&quot;: [0, 0], &quot;iconSize&quot;: [20, 20]});\n",
              "            marker_c4398672080bdf0dac5a8d31303a3fdc.setIcon(div_icon_3b5ece21294c81bac9fcce84f62c8a0e);\n",
              "        \n",
              "&lt;/script&gt;\n",
              "&lt;/html&gt;\" style=\"position:absolute;width:100%;height:100%;left:0;top:0;border:none !important;\" allowfullscreen webkitallowfullscreen mozallowfullscreen></iframe></div></div>"
            ]
          },
          "metadata": {},
          "execution_count": 8
        }
      ],
      "source": [
        "circle = folium.Circle(nasa_coordinate, radius=1000, color='#d35400', fill=True).add_child(folium.Popup('NASA Johnson Space Center'))\n",
        "\n",
        "marker = folium.map.Marker(\n",
        "    nasa_coordinate,\n",
        "    icon=DivIcon(\n",
        "        icon_size=(20,20),\n",
        "        icon_anchor=(0,0),\n",
        "        html='<div style=\"font-size: 12; color:#d35400;\"><b>%s</b></div>' % 'NASA JSC',\n",
        "        )\n",
        "    )\n",
        "\n",
        "site_map.add_child(circle)\n",
        "site_map.add_child(marker)"
      ]
    },
    {
      "cell_type": "markdown",
      "metadata": {
        "id": "q7JbPMZPQRAD"
      },
      "source": [
        "y deberías encontrar un pequeño círculo amarillo cerca de la ciudad de Houston y puedes ampliarlo para ver un círculo más grande.\n"
      ]
    },
    {
      "cell_type": "markdown",
      "metadata": {
        "id": "2ao2gIf4QRAD"
      },
      "source": [
        "Ahora, agreguemos un círculo para cada sitio de lanzamiento en el marco de datos \"sitios de lanzamiento\".\n"
      ]
    },
    {
      "cell_type": "markdown",
      "metadata": {
        "id": "boQsx8kMQRAD"
      },
      "source": [
        "### Crear y añadir `folium.Circle` y `folium.Marker` para cada sitio de lanzamiento en el mapa del sitio"
      ]
    },
    {
      "cell_type": "markdown",
      "metadata": {
        "id": "I40Nr-m-QRAD"
      },
      "source": [
        "Un ejemplo de folium.Circle:\n"
      ]
    },
    {
      "cell_type": "markdown",
      "metadata": {
        "id": "I2_9xKQ2QRAE"
      },
      "source": [
        "` folium.Circle([coordenadas], color='#d35400', radius=50, fill=True).add_child(folium.Popup(folium.Popup(site['Launch Site'])))`\n"
      ]
    },
    {
      "cell_type": "markdown",
      "source": [
        "` folium.Circle([coordenadas], color='#d35400', radius=50, fill=True).add_child(folium.Popup((site['Launch Site'])))`\n"
      ],
      "metadata": {
        "id": "M_Kdl7V9e_Zo"
      }
    },
    {
      "cell_type": "markdown",
      "metadata": {
        "id": "cr3tPIVRQRAE"
      },
      "source": [
        "Un ejemplo de folium.Marker:\n"
      ]
    },
    {
      "cell_type": "markdown",
      "metadata": {
        "id": "2RVn4RIUQRAE"
      },
      "source": [
        "\n",
        "```\n",
        "folium.Marker(coordinate,\n",
        "icon=DivIcon(icon_size=(20,20),\n",
        "icon_anchor=(0,0), \n",
        "html='<div style=\"font-size: 12; color:#d35400;\"><b>%s</b></div>' % site['Launch Site'], ))\n",
        "```\n"
      ]
    },
    {
      "cell_type": "code",
      "source": [
        "coordinate = launch_sites_df[['Lat', 'Long']].values\n",
        "coordinate = coordinate.tolist()\n",
        "launch_sites_df['Coordinate'] = coordinate\n",
        "launch_sites_df"
      ],
      "metadata": {
        "id": "aYlr8vGhyAua",
        "outputId": "d40a1367-c511-4b25-a323-f4f278716b9f",
        "colab": {
          "base_uri": "https://localhost:8080/",
          "height": 175
        }
      },
      "execution_count": 18,
      "outputs": [
        {
          "output_type": "execute_result",
          "data": {
            "text/plain": [
              "    Launch Site        Lat        Long                   Coordinate\n",
              "0   CCAFS LC-40  28.562302  -80.577356  [28.56230197, -80.57735648]\n",
              "1  CCAFS SLC-40  28.563197  -80.576820  [28.56319718, -80.57682003]\n",
              "2    KSC LC-39A  28.573255  -80.646895  [28.57325457, -80.64689529]\n",
              "3   VAFB SLC-4E  34.632834 -120.610745  [34.63283416, -120.6107455]"
            ],
            "text/html": [
              "\n",
              "  <div id=\"df-ba8d1603-47d4-4543-a934-c5c17f830a93\">\n",
              "    <div class=\"colab-df-container\">\n",
              "      <div>\n",
              "<style scoped>\n",
              "    .dataframe tbody tr th:only-of-type {\n",
              "        vertical-align: middle;\n",
              "    }\n",
              "\n",
              "    .dataframe tbody tr th {\n",
              "        vertical-align: top;\n",
              "    }\n",
              "\n",
              "    .dataframe thead th {\n",
              "        text-align: right;\n",
              "    }\n",
              "</style>\n",
              "<table border=\"1\" class=\"dataframe\">\n",
              "  <thead>\n",
              "    <tr style=\"text-align: right;\">\n",
              "      <th></th>\n",
              "      <th>Launch Site</th>\n",
              "      <th>Lat</th>\n",
              "      <th>Long</th>\n",
              "      <th>Coordinate</th>\n",
              "    </tr>\n",
              "  </thead>\n",
              "  <tbody>\n",
              "    <tr>\n",
              "      <th>0</th>\n",
              "      <td>CCAFS LC-40</td>\n",
              "      <td>28.562302</td>\n",
              "      <td>-80.577356</td>\n",
              "      <td>[28.56230197, -80.57735648]</td>\n",
              "    </tr>\n",
              "    <tr>\n",
              "      <th>1</th>\n",
              "      <td>CCAFS SLC-40</td>\n",
              "      <td>28.563197</td>\n",
              "      <td>-80.576820</td>\n",
              "      <td>[28.56319718, -80.57682003]</td>\n",
              "    </tr>\n",
              "    <tr>\n",
              "      <th>2</th>\n",
              "      <td>KSC LC-39A</td>\n",
              "      <td>28.573255</td>\n",
              "      <td>-80.646895</td>\n",
              "      <td>[28.57325457, -80.64689529]</td>\n",
              "    </tr>\n",
              "    <tr>\n",
              "      <th>3</th>\n",
              "      <td>VAFB SLC-4E</td>\n",
              "      <td>34.632834</td>\n",
              "      <td>-120.610745</td>\n",
              "      <td>[34.63283416, -120.6107455]</td>\n",
              "    </tr>\n",
              "  </tbody>\n",
              "</table>\n",
              "</div>\n",
              "      <button class=\"colab-df-convert\" onclick=\"convertToInteractive('df-ba8d1603-47d4-4543-a934-c5c17f830a93')\"\n",
              "              title=\"Convert this dataframe to an interactive table.\"\n",
              "              style=\"display:none;\">\n",
              "        \n",
              "  <svg xmlns=\"http://www.w3.org/2000/svg\" height=\"24px\"viewBox=\"0 0 24 24\"\n",
              "       width=\"24px\">\n",
              "    <path d=\"M0 0h24v24H0V0z\" fill=\"none\"/>\n",
              "    <path d=\"M18.56 5.44l.94 2.06.94-2.06 2.06-.94-2.06-.94-.94-2.06-.94 2.06-2.06.94zm-11 1L8.5 8.5l.94-2.06 2.06-.94-2.06-.94L8.5 2.5l-.94 2.06-2.06.94zm10 10l.94 2.06.94-2.06 2.06-.94-2.06-.94-.94-2.06-.94 2.06-2.06.94z\"/><path d=\"M17.41 7.96l-1.37-1.37c-.4-.4-.92-.59-1.43-.59-.52 0-1.04.2-1.43.59L10.3 9.45l-7.72 7.72c-.78.78-.78 2.05 0 2.83L4 21.41c.39.39.9.59 1.41.59.51 0 1.02-.2 1.41-.59l7.78-7.78 2.81-2.81c.8-.78.8-2.07 0-2.86zM5.41 20L4 18.59l7.72-7.72 1.47 1.35L5.41 20z\"/>\n",
              "  </svg>\n",
              "      </button>\n",
              "      \n",
              "  <style>\n",
              "    .colab-df-container {\n",
              "      display:flex;\n",
              "      flex-wrap:wrap;\n",
              "      gap: 12px;\n",
              "    }\n",
              "\n",
              "    .colab-df-convert {\n",
              "      background-color: #E8F0FE;\n",
              "      border: none;\n",
              "      border-radius: 50%;\n",
              "      cursor: pointer;\n",
              "      display: none;\n",
              "      fill: #1967D2;\n",
              "      height: 32px;\n",
              "      padding: 0 0 0 0;\n",
              "      width: 32px;\n",
              "    }\n",
              "\n",
              "    .colab-df-convert:hover {\n",
              "      background-color: #E2EBFA;\n",
              "      box-shadow: 0px 1px 2px rgba(60, 64, 67, 0.3), 0px 1px 3px 1px rgba(60, 64, 67, 0.15);\n",
              "      fill: #174EA6;\n",
              "    }\n",
              "\n",
              "    [theme=dark] .colab-df-convert {\n",
              "      background-color: #3B4455;\n",
              "      fill: #D2E3FC;\n",
              "    }\n",
              "\n",
              "    [theme=dark] .colab-df-convert:hover {\n",
              "      background-color: #434B5C;\n",
              "      box-shadow: 0px 1px 3px 1px rgba(0, 0, 0, 0.15);\n",
              "      filter: drop-shadow(0px 1px 2px rgba(0, 0, 0, 0.3));\n",
              "      fill: #FFFFFF;\n",
              "    }\n",
              "  </style>\n",
              "\n",
              "      <script>\n",
              "        const buttonEl =\n",
              "          document.querySelector('#df-ba8d1603-47d4-4543-a934-c5c17f830a93 button.colab-df-convert');\n",
              "        buttonEl.style.display =\n",
              "          google.colab.kernel.accessAllowed ? 'block' : 'none';\n",
              "\n",
              "        async function convertToInteractive(key) {\n",
              "          const element = document.querySelector('#df-ba8d1603-47d4-4543-a934-c5c17f830a93');\n",
              "          const dataTable =\n",
              "            await google.colab.kernel.invokeFunction('convertToInteractive',\n",
              "                                                     [key], {});\n",
              "          if (!dataTable) return;\n",
              "\n",
              "          const docLinkHtml = 'Like what you see? Visit the ' +\n",
              "            '<a target=\"_blank\" href=https://colab.research.google.com/notebooks/data_table.ipynb>data table notebook</a>'\n",
              "            + ' to learn more about interactive tables.';\n",
              "          element.innerHTML = '';\n",
              "          dataTable['output_type'] = 'display_data';\n",
              "          await google.colab.output.renderOutput(dataTable, element);\n",
              "          const docLink = document.createElement('div');\n",
              "          docLink.innerHTML = docLinkHtml;\n",
              "          element.appendChild(docLink);\n",
              "        }\n",
              "      </script>\n",
              "    </div>\n",
              "  </div>\n",
              "  "
            ]
          },
          "metadata": {},
          "execution_count": 18
        }
      ]
    },
    {
      "cell_type": "code",
      "execution_count": 29,
      "metadata": {
        "id": "mgtl4-RXQRAE",
        "outputId": "b487f991-54ff-4f36-d0d4-ca3248a1bcae",
        "colab": {
          "base_uri": "https://localhost:8080/",
          "height": 685
        }
      },
      "outputs": [
        {
          "output_type": "execute_result",
          "data": {
            "text/plain": [
              "<folium.folium.Map at 0x7f71463a4b20>"
            ],
            "text/html": [
              "<div style=\"width:100%;\"><div style=\"position:relative;width:100%;height:0;padding-bottom:60%;\"><span style=\"color:#565656\">Make this Notebook Trusted to load map: File -> Trust Notebook</span><iframe srcdoc=\"&lt;!DOCTYPE html&gt;\n",
              "&lt;html&gt;\n",
              "&lt;head&gt;\n",
              "    \n",
              "    &lt;meta http-equiv=&quot;content-type&quot; content=&quot;text/html; charset=UTF-8&quot; /&gt;\n",
              "    \n",
              "        &lt;script&gt;\n",
              "            L_NO_TOUCH = false;\n",
              "            L_DISABLE_3D = false;\n",
              "        &lt;/script&gt;\n",
              "    \n",
              "    &lt;style&gt;html, body {width: 100%;height: 100%;margin: 0;padding: 0;}&lt;/style&gt;\n",
              "    &lt;style&gt;#map {position:absolute;top:0;bottom:0;right:0;left:0;}&lt;/style&gt;\n",
              "    &lt;script src=&quot;https://cdn.jsdelivr.net/npm/leaflet@1.9.3/dist/leaflet.js&quot;&gt;&lt;/script&gt;\n",
              "    &lt;script src=&quot;https://code.jquery.com/jquery-1.12.4.min.js&quot;&gt;&lt;/script&gt;\n",
              "    &lt;script src=&quot;https://cdn.jsdelivr.net/npm/bootstrap@5.2.2/dist/js/bootstrap.bundle.min.js&quot;&gt;&lt;/script&gt;\n",
              "    &lt;script src=&quot;https://cdnjs.cloudflare.com/ajax/libs/Leaflet.awesome-markers/2.0.2/leaflet.awesome-markers.js&quot;&gt;&lt;/script&gt;\n",
              "    &lt;link rel=&quot;stylesheet&quot; href=&quot;https://cdn.jsdelivr.net/npm/leaflet@1.9.3/dist/leaflet.css&quot;/&gt;\n",
              "    &lt;link rel=&quot;stylesheet&quot; href=&quot;https://cdn.jsdelivr.net/npm/bootstrap@5.2.2/dist/css/bootstrap.min.css&quot;/&gt;\n",
              "    &lt;link rel=&quot;stylesheet&quot; href=&quot;https://netdna.bootstrapcdn.com/bootstrap/3.0.0/css/bootstrap.min.css&quot;/&gt;\n",
              "    &lt;link rel=&quot;stylesheet&quot; href=&quot;https://cdn.jsdelivr.net/npm/@fortawesome/fontawesome-free@6.2.0/css/all.min.css&quot;/&gt;\n",
              "    &lt;link rel=&quot;stylesheet&quot; href=&quot;https://cdnjs.cloudflare.com/ajax/libs/Leaflet.awesome-markers/2.0.2/leaflet.awesome-markers.css&quot;/&gt;\n",
              "    &lt;link rel=&quot;stylesheet&quot; href=&quot;https://cdn.jsdelivr.net/gh/python-visualization/folium/folium/templates/leaflet.awesome.rotate.min.css&quot;/&gt;\n",
              "    \n",
              "            &lt;meta name=&quot;viewport&quot; content=&quot;width=device-width,\n",
              "                initial-scale=1.0, maximum-scale=1.0, user-scalable=no&quot; /&gt;\n",
              "            &lt;style&gt;\n",
              "                #map_3e2f0dbfa8fe0d1a565f23218faac3bc {\n",
              "                    position: relative;\n",
              "                    width: 100.0%;\n",
              "                    height: 100.0%;\n",
              "                    left: 0.0%;\n",
              "                    top: 0.0%;\n",
              "                }\n",
              "                .leaflet-container { font-size: 1rem; }\n",
              "            &lt;/style&gt;\n",
              "        \n",
              "&lt;/head&gt;\n",
              "&lt;body&gt;\n",
              "    \n",
              "    \n",
              "            &lt;div class=&quot;folium-map&quot; id=&quot;map_3e2f0dbfa8fe0d1a565f23218faac3bc&quot; &gt;&lt;/div&gt;\n",
              "        \n",
              "&lt;/body&gt;\n",
              "&lt;script&gt;\n",
              "    \n",
              "    \n",
              "            var map_3e2f0dbfa8fe0d1a565f23218faac3bc = L.map(\n",
              "                &quot;map_3e2f0dbfa8fe0d1a565f23218faac3bc&quot;,\n",
              "                {\n",
              "                    center: [29.559684888503615, -95.0830971930759],\n",
              "                    crs: L.CRS.EPSG3857,\n",
              "                    zoom: 5,\n",
              "                    zoomControl: true,\n",
              "                    preferCanvas: false,\n",
              "                }\n",
              "            );\n",
              "\n",
              "            \n",
              "\n",
              "        \n",
              "    \n",
              "            var tile_layer_add5da76a2cee5e0ff0a435f336db6ce = L.tileLayer(\n",
              "                &quot;https://{s}.tile.openstreetmap.org/{z}/{x}/{y}.png&quot;,\n",
              "                {&quot;attribution&quot;: &quot;Data by \\u0026copy; \\u003ca target=\\&quot;_blank\\&quot; href=\\&quot;http://openstreetmap.org\\&quot;\\u003eOpenStreetMap\\u003c/a\\u003e, under \\u003ca target=\\&quot;_blank\\&quot; href=\\&quot;http://www.openstreetmap.org/copyright\\&quot;\\u003eODbL\\u003c/a\\u003e.&quot;, &quot;detectRetina&quot;: false, &quot;maxNativeZoom&quot;: 18, &quot;maxZoom&quot;: 18, &quot;minZoom&quot;: 0, &quot;noWrap&quot;: false, &quot;opacity&quot;: 1, &quot;subdomains&quot;: &quot;abc&quot;, &quot;tms&quot;: false}\n",
              "            ).addTo(map_3e2f0dbfa8fe0d1a565f23218faac3bc);\n",
              "        \n",
              "    \n",
              "            var circle_67a0c7b113aefff51babb670af1d5fba = L.circle(\n",
              "                [28.56230197, -80.57735648],\n",
              "                {&quot;bubblingMouseEvents&quot;: true, &quot;color&quot;: &quot;#d35400&quot;, &quot;dashArray&quot;: null, &quot;dashOffset&quot;: null, &quot;fill&quot;: true, &quot;fillColor&quot;: &quot;#d35400&quot;, &quot;fillOpacity&quot;: 0.2, &quot;fillRule&quot;: &quot;evenodd&quot;, &quot;lineCap&quot;: &quot;round&quot;, &quot;lineJoin&quot;: &quot;round&quot;, &quot;opacity&quot;: 1.0, &quot;radius&quot;: 50, &quot;stroke&quot;: true, &quot;weight&quot;: 3}\n",
              "            ).addTo(map_3e2f0dbfa8fe0d1a565f23218faac3bc);\n",
              "        \n",
              "    \n",
              "        var popup_f26ab64b8dc472759398b74babd016dd = L.popup({&quot;maxWidth&quot;: &quot;100%&quot;});\n",
              "\n",
              "        \n",
              "            \n",
              "                var html_3d7574b0cbda35f99043ee0e26f7f286 = $(`&lt;div id=&quot;html_3d7574b0cbda35f99043ee0e26f7f286&quot; style=&quot;width: 100.0%; height: 100.0%;&quot;&gt;CCAFS LC-40&lt;/div&gt;`)[0];\n",
              "                popup_f26ab64b8dc472759398b74babd016dd.setContent(html_3d7574b0cbda35f99043ee0e26f7f286);\n",
              "            \n",
              "        \n",
              "\n",
              "        circle_67a0c7b113aefff51babb670af1d5fba.bindPopup(popup_f26ab64b8dc472759398b74babd016dd)\n",
              "        ;\n",
              "\n",
              "        \n",
              "    \n",
              "    \n",
              "            var marker_2d01b2edf5d7936663260dab2e21a762 = L.marker(\n",
              "                [28.56230197, -80.57735648],\n",
              "                {}\n",
              "            ).addTo(map_3e2f0dbfa8fe0d1a565f23218faac3bc);\n",
              "        \n",
              "    \n",
              "            var div_icon_b538b74c25cab7b615b5e19bd07cb111 = L.divIcon({&quot;className&quot;: &quot;empty&quot;, &quot;html&quot;: &quot;\\u003cdiv style=\\&quot;font-size: 12; color:#d35400;\\&quot;\\u003e\\u003cb\\u003eCCAFS LC-40\\u003c/b\\u003e\\u003c/div\\u003e&quot;, &quot;iconAnchor&quot;: [0, 0], &quot;iconSize&quot;: [20, 20]});\n",
              "            marker_2d01b2edf5d7936663260dab2e21a762.setIcon(div_icon_b538b74c25cab7b615b5e19bd07cb111);\n",
              "        \n",
              "    \n",
              "            var circle_8e80f604afba5097b7b557f522d6e53d = L.circle(\n",
              "                [28.56319718, -80.57682003],\n",
              "                {&quot;bubblingMouseEvents&quot;: true, &quot;color&quot;: &quot;#d35400&quot;, &quot;dashArray&quot;: null, &quot;dashOffset&quot;: null, &quot;fill&quot;: true, &quot;fillColor&quot;: &quot;#d35400&quot;, &quot;fillOpacity&quot;: 0.2, &quot;fillRule&quot;: &quot;evenodd&quot;, &quot;lineCap&quot;: &quot;round&quot;, &quot;lineJoin&quot;: &quot;round&quot;, &quot;opacity&quot;: 1.0, &quot;radius&quot;: 50, &quot;stroke&quot;: true, &quot;weight&quot;: 3}\n",
              "            ).addTo(map_3e2f0dbfa8fe0d1a565f23218faac3bc);\n",
              "        \n",
              "    \n",
              "        var popup_bae44f61f68f98014fb9e97ec10a1b32 = L.popup({&quot;maxWidth&quot;: &quot;100%&quot;});\n",
              "\n",
              "        \n",
              "            \n",
              "                var html_4556c310b0e1cc4c789d2dfc7bbede2a = $(`&lt;div id=&quot;html_4556c310b0e1cc4c789d2dfc7bbede2a&quot; style=&quot;width: 100.0%; height: 100.0%;&quot;&gt;CCAFS SLC-40&lt;/div&gt;`)[0];\n",
              "                popup_bae44f61f68f98014fb9e97ec10a1b32.setContent(html_4556c310b0e1cc4c789d2dfc7bbede2a);\n",
              "            \n",
              "        \n",
              "\n",
              "        circle_8e80f604afba5097b7b557f522d6e53d.bindPopup(popup_bae44f61f68f98014fb9e97ec10a1b32)\n",
              "        ;\n",
              "\n",
              "        \n",
              "    \n",
              "    \n",
              "            var marker_b028986d469c158139c8d9411bcef124 = L.marker(\n",
              "                [28.56319718, -80.57682003],\n",
              "                {}\n",
              "            ).addTo(map_3e2f0dbfa8fe0d1a565f23218faac3bc);\n",
              "        \n",
              "    \n",
              "            var div_icon_4ea0a70921048e2897a55552c8e2caac = L.divIcon({&quot;className&quot;: &quot;empty&quot;, &quot;html&quot;: &quot;\\u003cdiv style=\\&quot;font-size: 12; color:#d35400;\\&quot;\\u003e\\u003cb\\u003eCCAFS SLC-40\\u003c/b\\u003e\\u003c/div\\u003e&quot;, &quot;iconAnchor&quot;: [0, 0], &quot;iconSize&quot;: [20, 20]});\n",
              "            marker_b028986d469c158139c8d9411bcef124.setIcon(div_icon_4ea0a70921048e2897a55552c8e2caac);\n",
              "        \n",
              "    \n",
              "            var circle_5c7b5a91541d3c87565972284eb4a85c = L.circle(\n",
              "                [28.57325457, -80.64689529],\n",
              "                {&quot;bubblingMouseEvents&quot;: true, &quot;color&quot;: &quot;#d35400&quot;, &quot;dashArray&quot;: null, &quot;dashOffset&quot;: null, &quot;fill&quot;: true, &quot;fillColor&quot;: &quot;#d35400&quot;, &quot;fillOpacity&quot;: 0.2, &quot;fillRule&quot;: &quot;evenodd&quot;, &quot;lineCap&quot;: &quot;round&quot;, &quot;lineJoin&quot;: &quot;round&quot;, &quot;opacity&quot;: 1.0, &quot;radius&quot;: 50, &quot;stroke&quot;: true, &quot;weight&quot;: 3}\n",
              "            ).addTo(map_3e2f0dbfa8fe0d1a565f23218faac3bc);\n",
              "        \n",
              "    \n",
              "        var popup_723f26b167cc94a41bed4e6843d25b63 = L.popup({&quot;maxWidth&quot;: &quot;100%&quot;});\n",
              "\n",
              "        \n",
              "            \n",
              "                var html_551cdd8af64014045549dd29a51080a0 = $(`&lt;div id=&quot;html_551cdd8af64014045549dd29a51080a0&quot; style=&quot;width: 100.0%; height: 100.0%;&quot;&gt;KSC LC-39A&lt;/div&gt;`)[0];\n",
              "                popup_723f26b167cc94a41bed4e6843d25b63.setContent(html_551cdd8af64014045549dd29a51080a0);\n",
              "            \n",
              "        \n",
              "\n",
              "        circle_5c7b5a91541d3c87565972284eb4a85c.bindPopup(popup_723f26b167cc94a41bed4e6843d25b63)\n",
              "        ;\n",
              "\n",
              "        \n",
              "    \n",
              "    \n",
              "            var marker_80013728a76723cd4e5e0dd110e81bf6 = L.marker(\n",
              "                [28.57325457, -80.64689529],\n",
              "                {}\n",
              "            ).addTo(map_3e2f0dbfa8fe0d1a565f23218faac3bc);\n",
              "        \n",
              "    \n",
              "            var div_icon_a5fcb7fb268a1644d375d4e412bd1a04 = L.divIcon({&quot;className&quot;: &quot;empty&quot;, &quot;html&quot;: &quot;\\u003cdiv style=\\&quot;font-size: 12; color:#d35400;\\&quot;\\u003e\\u003cb\\u003eKSC LC-39A\\u003c/b\\u003e\\u003c/div\\u003e&quot;, &quot;iconAnchor&quot;: [0, 0], &quot;iconSize&quot;: [20, 20]});\n",
              "            marker_80013728a76723cd4e5e0dd110e81bf6.setIcon(div_icon_a5fcb7fb268a1644d375d4e412bd1a04);\n",
              "        \n",
              "    \n",
              "            var circle_332d39a2237b5fc7ec84a9efd73e527d = L.circle(\n",
              "                [34.63283416, -120.6107455],\n",
              "                {&quot;bubblingMouseEvents&quot;: true, &quot;color&quot;: &quot;#d35400&quot;, &quot;dashArray&quot;: null, &quot;dashOffset&quot;: null, &quot;fill&quot;: true, &quot;fillColor&quot;: &quot;#d35400&quot;, &quot;fillOpacity&quot;: 0.2, &quot;fillRule&quot;: &quot;evenodd&quot;, &quot;lineCap&quot;: &quot;round&quot;, &quot;lineJoin&quot;: &quot;round&quot;, &quot;opacity&quot;: 1.0, &quot;radius&quot;: 50, &quot;stroke&quot;: true, &quot;weight&quot;: 3}\n",
              "            ).addTo(map_3e2f0dbfa8fe0d1a565f23218faac3bc);\n",
              "        \n",
              "    \n",
              "        var popup_8ea598311d1baef830db47931a8cd264 = L.popup({&quot;maxWidth&quot;: &quot;100%&quot;});\n",
              "\n",
              "        \n",
              "            \n",
              "                var html_b1a90766b9592ad5e0f7c0e852e46ec1 = $(`&lt;div id=&quot;html_b1a90766b9592ad5e0f7c0e852e46ec1&quot; style=&quot;width: 100.0%; height: 100.0%;&quot;&gt;VAFB SLC-4E&lt;/div&gt;`)[0];\n",
              "                popup_8ea598311d1baef830db47931a8cd264.setContent(html_b1a90766b9592ad5e0f7c0e852e46ec1);\n",
              "            \n",
              "        \n",
              "\n",
              "        circle_332d39a2237b5fc7ec84a9efd73e527d.bindPopup(popup_8ea598311d1baef830db47931a8cd264)\n",
              "        ;\n",
              "\n",
              "        \n",
              "    \n",
              "    \n",
              "            var marker_59f28110d2019e7bfdcb9302d0fa428a = L.marker(\n",
              "                [34.63283416, -120.6107455],\n",
              "                {}\n",
              "            ).addTo(map_3e2f0dbfa8fe0d1a565f23218faac3bc);\n",
              "        \n",
              "    \n",
              "            var div_icon_5e2fbc444a503a36605e0ef6374c0f93 = L.divIcon({&quot;className&quot;: &quot;empty&quot;, &quot;html&quot;: &quot;\\u003cdiv style=\\&quot;font-size: 12; color:#d35400;\\&quot;\\u003e\\u003cb\\u003eVAFB SLC-4E\\u003c/b\\u003e\\u003c/div\\u003e&quot;, &quot;iconAnchor&quot;: [0, 0], &quot;iconSize&quot;: [20, 20]});\n",
              "            marker_59f28110d2019e7bfdcb9302d0fa428a.setIcon(div_icon_5e2fbc444a503a36605e0ef6374c0f93);\n",
              "        \n",
              "&lt;/script&gt;\n",
              "&lt;/html&gt;\" style=\"position:absolute;width:100%;height:100%;left:0;top:0;border:none !important;\" allowfullscreen webkitallowfullscreen mozallowfullscreen></iframe></div></div>"
            ]
          },
          "metadata": {},
          "execution_count": 29
        }
      ],
      "source": [
        "# Inserta tu código aquí\n",
        "site_map = folium.Map(location=nasa_coordinate, zoom_start=5)\n",
        "\n",
        "indice = 0\n",
        "for row in launch_sites_df:\n",
        "    circle = folium.Circle(launch_sites_df['Coordinate'].iloc[indice], color='#d35400', radius=50, fill=True).add_child(folium.Popup(launch_sites_df['Launch Site'].iloc[indice]))\n",
        "    marker = folium.Marker(\n",
        "    launch_sites_df['Coordinate'].iloc[indice],\n",
        "    icon=DivIcon(\n",
        "        icon_size=(20,20),\n",
        "        icon_anchor=(0,0),\n",
        "        html='<div style=\"font-size: 12; color:#d35400;\"><b>%s</b></div>' % launch_sites_df['Launch Site'].iloc[indice],\n",
        "        )\n",
        "    )\n",
        "    site_map.add_child(circle)\n",
        "    site_map.add_child(marker)\n",
        "    indice += 1\n",
        "\n",
        "site_map"
      ]
    },
    {
      "cell_type": "markdown",
      "metadata": {
        "id": "zrYB-sOfQRAE"
      },
      "source": [
        "El mapa generado con los lugares de lanzamiento marcados debería tener un aspecto similar al siguiente:\n"
      ]
    },
    {
      "cell_type": "markdown",
      "metadata": {
        "id": "yapI95suQRAF"
      },
      "source": [
        "<center>\n",
        "    <img src=\"https://cf-courses-data.s3.us.cloud-object-storage.appdomain.cloud/IBM-DS0321EN-SkillsNetwork/labs/module_3/images/launch_site_markers.png\" />\n",
        "</center>\n"
      ]
    },
    {
      "cell_type": "markdown",
      "metadata": {
        "id": "2A_rhGnqQRAF"
      },
      "source": [
        "Ahora, puedes explorar el mapa acercando o alejando las zonas marcadas\n",
        "y tratar de responder a las siguientes preguntas:\n",
        "\n",
        "* ¿Están todas las zonas de lanzamiento cerca de la línea del Ecuador?\n",
        "No, no están cerca de la línea del Ecuador.\n",
        "* ¿Están todos los puntos de lanzamiento muy cerca de la costa?\n",
        "Sí.\n",
        "\n",
        "Intenta también explicar tus conclusiones.\n"
      ]
    },
    {
      "cell_type": "markdown",
      "metadata": {
        "id": "LkS9dnjHQRAF"
      },
      "source": [
        "# Tarea 2: Marcar en el mapa los lanzamientos exitosos/fracasados de cada sitio\n"
      ]
    },
    {
      "cell_type": "markdown",
      "metadata": {
        "id": "RPeJBbQbQRAF"
      },
      "source": [
        "A continuación, vamos a intentar mejorar el mapa añadiendo los resultados de los lanzamientos de cada emplazamiento, y ver qué emplazamientos tienen un alto índice de éxito.\n",
        "Recordemos que el marco de datos spacex_df contiene registros detallados de los lanzamientos, y la columna `clase` indica si el lanzamiento fue exitoso o no\n"
      ]
    },
    {
      "cell_type": "code",
      "execution_count": 30,
      "metadata": {
        "id": "Wv7tS5tsQRAF",
        "outputId": "b3073a04-725a-4f46-df89-447b1f10b410",
        "colab": {
          "base_uri": "https://localhost:8080/",
          "height": 615
        }
      },
      "outputs": [
        {
          "output_type": "execute_result",
          "data": {
            "text/plain": [
              "    Flight Number        Date Time (UTC) Booster Version   Launch Site  \\\n",
              "46             43  2017-10-11   22:53:00  F9 FT  B1031.2    KSC LC-39A   \n",
              "47             44  2017-10-30   19:34:00   F9 B4 B1042.1    KSC LC-39A   \n",
              "48             54  2018-05-11   20:14:00  F9 B5  B1046.1    KSC LC-39A   \n",
              "49             45  2017-12-15   15:36:00  F9 FT  B1035.2  CCAFS SLC-40   \n",
              "50             47  2018-01-08    1:00:00   F9 B4 B1043.1  CCAFS SLC-40   \n",
              "51             48  2018-01-31   21:25:00  F9 FT  B1032.2  CCAFS SLC-40   \n",
              "52             50  2018-03-06    5:33:00     F9 B4 B1044  CCAFS SLC-40   \n",
              "53             52  2018-04-02   20:30:00  F9 B4  B1039.2  CCAFS SLC-40   \n",
              "54             53  2018-04-18   22:51:00   F9 B4 B1045.1  CCAFS SLC-40   \n",
              "55             56  2018-06-04    4:45:00  F9 B4  B1040.2  CCAFS SLC-40   \n",
              "\n",
              "                                         Payload  Payload Mass (kg)  \\\n",
              "46                         SES-11 / EchoStar 105            5200.00   \n",
              "47                                   Koreasat 5A            3500.00   \n",
              "48                                 Bangabandhu-1            3600.00   \n",
              "49                                 SpaceX CRS-13            2205.00   \n",
              "50                                          Zuma            3696.65   \n",
              "51                             GovSat-1 / SES-16            4230.00   \n",
              "52                        Hispasat 30W-6  PODSat            6092.00   \n",
              "53                                 SpaceX CRS-14            2647.00   \n",
              "54  Transiting Exoplanet Survey Satellite (TESS)             362.00   \n",
              "55                                        SES-12            5384.00   \n",
              "\n",
              "        Orbit             Customer       Landing Outcome  class        Lat  \\\n",
              "46        GTO         SES EchoStar  Success (drone ship)      1  28.573255   \n",
              "47        GTO       KT Corporation  Success (drone ship)      1  28.573255   \n",
              "48        GTO   Thales-Alenia/BTRC  Success (drone ship)      1  28.573255   \n",
              "49  LEO (ISS)           NASA (CRS)  Success (ground pad)      1  28.563197   \n",
              "50        LEO     Northrop Grumman  Success (ground pad)      1  28.563197   \n",
              "51        GTO                  SES    Controlled (ocean)      0  28.563197   \n",
              "52        GTO  Hispasat  NovaWurks            No attempt      0  28.563197   \n",
              "53  LEO (ISS)           NASA (CRS)            No attempt      0  28.563197   \n",
              "54        HEO           NASA (LSP)  Success (drone ship)      1  28.563197   \n",
              "55        GTO                  SES            No attempt      0  28.563197   \n",
              "\n",
              "         Long  \n",
              "46 -80.646895  \n",
              "47 -80.646895  \n",
              "48 -80.646895  \n",
              "49 -80.576820  \n",
              "50 -80.576820  \n",
              "51 -80.576820  \n",
              "52 -80.576820  \n",
              "53 -80.576820  \n",
              "54 -80.576820  \n",
              "55 -80.576820  "
            ],
            "text/html": [
              "\n",
              "  <div id=\"df-3ce8be2d-a7c3-4fb9-9aaa-c85b32d1280a\">\n",
              "    <div class=\"colab-df-container\">\n",
              "      <div>\n",
              "<style scoped>\n",
              "    .dataframe tbody tr th:only-of-type {\n",
              "        vertical-align: middle;\n",
              "    }\n",
              "\n",
              "    .dataframe tbody tr th {\n",
              "        vertical-align: top;\n",
              "    }\n",
              "\n",
              "    .dataframe thead th {\n",
              "        text-align: right;\n",
              "    }\n",
              "</style>\n",
              "<table border=\"1\" class=\"dataframe\">\n",
              "  <thead>\n",
              "    <tr style=\"text-align: right;\">\n",
              "      <th></th>\n",
              "      <th>Flight Number</th>\n",
              "      <th>Date</th>\n",
              "      <th>Time (UTC)</th>\n",
              "      <th>Booster Version</th>\n",
              "      <th>Launch Site</th>\n",
              "      <th>Payload</th>\n",
              "      <th>Payload Mass (kg)</th>\n",
              "      <th>Orbit</th>\n",
              "      <th>Customer</th>\n",
              "      <th>Landing Outcome</th>\n",
              "      <th>class</th>\n",
              "      <th>Lat</th>\n",
              "      <th>Long</th>\n",
              "    </tr>\n",
              "  </thead>\n",
              "  <tbody>\n",
              "    <tr>\n",
              "      <th>46</th>\n",
              "      <td>43</td>\n",
              "      <td>2017-10-11</td>\n",
              "      <td>22:53:00</td>\n",
              "      <td>F9 FT  B1031.2</td>\n",
              "      <td>KSC LC-39A</td>\n",
              "      <td>SES-11 / EchoStar 105</td>\n",
              "      <td>5200.00</td>\n",
              "      <td>GTO</td>\n",
              "      <td>SES EchoStar</td>\n",
              "      <td>Success (drone ship)</td>\n",
              "      <td>1</td>\n",
              "      <td>28.573255</td>\n",
              "      <td>-80.646895</td>\n",
              "    </tr>\n",
              "    <tr>\n",
              "      <th>47</th>\n",
              "      <td>44</td>\n",
              "      <td>2017-10-30</td>\n",
              "      <td>19:34:00</td>\n",
              "      <td>F9 B4 B1042.1</td>\n",
              "      <td>KSC LC-39A</td>\n",
              "      <td>Koreasat 5A</td>\n",
              "      <td>3500.00</td>\n",
              "      <td>GTO</td>\n",
              "      <td>KT Corporation</td>\n",
              "      <td>Success (drone ship)</td>\n",
              "      <td>1</td>\n",
              "      <td>28.573255</td>\n",
              "      <td>-80.646895</td>\n",
              "    </tr>\n",
              "    <tr>\n",
              "      <th>48</th>\n",
              "      <td>54</td>\n",
              "      <td>2018-05-11</td>\n",
              "      <td>20:14:00</td>\n",
              "      <td>F9 B5  B1046.1</td>\n",
              "      <td>KSC LC-39A</td>\n",
              "      <td>Bangabandhu-1</td>\n",
              "      <td>3600.00</td>\n",
              "      <td>GTO</td>\n",
              "      <td>Thales-Alenia/BTRC</td>\n",
              "      <td>Success (drone ship)</td>\n",
              "      <td>1</td>\n",
              "      <td>28.573255</td>\n",
              "      <td>-80.646895</td>\n",
              "    </tr>\n",
              "    <tr>\n",
              "      <th>49</th>\n",
              "      <td>45</td>\n",
              "      <td>2017-12-15</td>\n",
              "      <td>15:36:00</td>\n",
              "      <td>F9 FT  B1035.2</td>\n",
              "      <td>CCAFS SLC-40</td>\n",
              "      <td>SpaceX CRS-13</td>\n",
              "      <td>2205.00</td>\n",
              "      <td>LEO (ISS)</td>\n",
              "      <td>NASA (CRS)</td>\n",
              "      <td>Success (ground pad)</td>\n",
              "      <td>1</td>\n",
              "      <td>28.563197</td>\n",
              "      <td>-80.576820</td>\n",
              "    </tr>\n",
              "    <tr>\n",
              "      <th>50</th>\n",
              "      <td>47</td>\n",
              "      <td>2018-01-08</td>\n",
              "      <td>1:00:00</td>\n",
              "      <td>F9 B4 B1043.1</td>\n",
              "      <td>CCAFS SLC-40</td>\n",
              "      <td>Zuma</td>\n",
              "      <td>3696.65</td>\n",
              "      <td>LEO</td>\n",
              "      <td>Northrop Grumman</td>\n",
              "      <td>Success (ground pad)</td>\n",
              "      <td>1</td>\n",
              "      <td>28.563197</td>\n",
              "      <td>-80.576820</td>\n",
              "    </tr>\n",
              "    <tr>\n",
              "      <th>51</th>\n",
              "      <td>48</td>\n",
              "      <td>2018-01-31</td>\n",
              "      <td>21:25:00</td>\n",
              "      <td>F9 FT  B1032.2</td>\n",
              "      <td>CCAFS SLC-40</td>\n",
              "      <td>GovSat-1 / SES-16</td>\n",
              "      <td>4230.00</td>\n",
              "      <td>GTO</td>\n",
              "      <td>SES</td>\n",
              "      <td>Controlled (ocean)</td>\n",
              "      <td>0</td>\n",
              "      <td>28.563197</td>\n",
              "      <td>-80.576820</td>\n",
              "    </tr>\n",
              "    <tr>\n",
              "      <th>52</th>\n",
              "      <td>50</td>\n",
              "      <td>2018-03-06</td>\n",
              "      <td>5:33:00</td>\n",
              "      <td>F9 B4 B1044</td>\n",
              "      <td>CCAFS SLC-40</td>\n",
              "      <td>Hispasat 30W-6  PODSat</td>\n",
              "      <td>6092.00</td>\n",
              "      <td>GTO</td>\n",
              "      <td>Hispasat  NovaWurks</td>\n",
              "      <td>No attempt</td>\n",
              "      <td>0</td>\n",
              "      <td>28.563197</td>\n",
              "      <td>-80.576820</td>\n",
              "    </tr>\n",
              "    <tr>\n",
              "      <th>53</th>\n",
              "      <td>52</td>\n",
              "      <td>2018-04-02</td>\n",
              "      <td>20:30:00</td>\n",
              "      <td>F9 B4  B1039.2</td>\n",
              "      <td>CCAFS SLC-40</td>\n",
              "      <td>SpaceX CRS-14</td>\n",
              "      <td>2647.00</td>\n",
              "      <td>LEO (ISS)</td>\n",
              "      <td>NASA (CRS)</td>\n",
              "      <td>No attempt</td>\n",
              "      <td>0</td>\n",
              "      <td>28.563197</td>\n",
              "      <td>-80.576820</td>\n",
              "    </tr>\n",
              "    <tr>\n",
              "      <th>54</th>\n",
              "      <td>53</td>\n",
              "      <td>2018-04-18</td>\n",
              "      <td>22:51:00</td>\n",
              "      <td>F9 B4 B1045.1</td>\n",
              "      <td>CCAFS SLC-40</td>\n",
              "      <td>Transiting Exoplanet Survey Satellite (TESS)</td>\n",
              "      <td>362.00</td>\n",
              "      <td>HEO</td>\n",
              "      <td>NASA (LSP)</td>\n",
              "      <td>Success (drone ship)</td>\n",
              "      <td>1</td>\n",
              "      <td>28.563197</td>\n",
              "      <td>-80.576820</td>\n",
              "    </tr>\n",
              "    <tr>\n",
              "      <th>55</th>\n",
              "      <td>56</td>\n",
              "      <td>2018-06-04</td>\n",
              "      <td>4:45:00</td>\n",
              "      <td>F9 B4  B1040.2</td>\n",
              "      <td>CCAFS SLC-40</td>\n",
              "      <td>SES-12</td>\n",
              "      <td>5384.00</td>\n",
              "      <td>GTO</td>\n",
              "      <td>SES</td>\n",
              "      <td>No attempt</td>\n",
              "      <td>0</td>\n",
              "      <td>28.563197</td>\n",
              "      <td>-80.576820</td>\n",
              "    </tr>\n",
              "  </tbody>\n",
              "</table>\n",
              "</div>\n",
              "      <button class=\"colab-df-convert\" onclick=\"convertToInteractive('df-3ce8be2d-a7c3-4fb9-9aaa-c85b32d1280a')\"\n",
              "              title=\"Convert this dataframe to an interactive table.\"\n",
              "              style=\"display:none;\">\n",
              "        \n",
              "  <svg xmlns=\"http://www.w3.org/2000/svg\" height=\"24px\"viewBox=\"0 0 24 24\"\n",
              "       width=\"24px\">\n",
              "    <path d=\"M0 0h24v24H0V0z\" fill=\"none\"/>\n",
              "    <path d=\"M18.56 5.44l.94 2.06.94-2.06 2.06-.94-2.06-.94-.94-2.06-.94 2.06-2.06.94zm-11 1L8.5 8.5l.94-2.06 2.06-.94-2.06-.94L8.5 2.5l-.94 2.06-2.06.94zm10 10l.94 2.06.94-2.06 2.06-.94-2.06-.94-.94-2.06-.94 2.06-2.06.94z\"/><path d=\"M17.41 7.96l-1.37-1.37c-.4-.4-.92-.59-1.43-.59-.52 0-1.04.2-1.43.59L10.3 9.45l-7.72 7.72c-.78.78-.78 2.05 0 2.83L4 21.41c.39.39.9.59 1.41.59.51 0 1.02-.2 1.41-.59l7.78-7.78 2.81-2.81c.8-.78.8-2.07 0-2.86zM5.41 20L4 18.59l7.72-7.72 1.47 1.35L5.41 20z\"/>\n",
              "  </svg>\n",
              "      </button>\n",
              "      \n",
              "  <style>\n",
              "    .colab-df-container {\n",
              "      display:flex;\n",
              "      flex-wrap:wrap;\n",
              "      gap: 12px;\n",
              "    }\n",
              "\n",
              "    .colab-df-convert {\n",
              "      background-color: #E8F0FE;\n",
              "      border: none;\n",
              "      border-radius: 50%;\n",
              "      cursor: pointer;\n",
              "      display: none;\n",
              "      fill: #1967D2;\n",
              "      height: 32px;\n",
              "      padding: 0 0 0 0;\n",
              "      width: 32px;\n",
              "    }\n",
              "\n",
              "    .colab-df-convert:hover {\n",
              "      background-color: #E2EBFA;\n",
              "      box-shadow: 0px 1px 2px rgba(60, 64, 67, 0.3), 0px 1px 3px 1px rgba(60, 64, 67, 0.15);\n",
              "      fill: #174EA6;\n",
              "    }\n",
              "\n",
              "    [theme=dark] .colab-df-convert {\n",
              "      background-color: #3B4455;\n",
              "      fill: #D2E3FC;\n",
              "    }\n",
              "\n",
              "    [theme=dark] .colab-df-convert:hover {\n",
              "      background-color: #434B5C;\n",
              "      box-shadow: 0px 1px 3px 1px rgba(0, 0, 0, 0.15);\n",
              "      filter: drop-shadow(0px 1px 2px rgba(0, 0, 0, 0.3));\n",
              "      fill: #FFFFFF;\n",
              "    }\n",
              "  </style>\n",
              "\n",
              "      <script>\n",
              "        const buttonEl =\n",
              "          document.querySelector('#df-3ce8be2d-a7c3-4fb9-9aaa-c85b32d1280a button.colab-df-convert');\n",
              "        buttonEl.style.display =\n",
              "          google.colab.kernel.accessAllowed ? 'block' : 'none';\n",
              "\n",
              "        async function convertToInteractive(key) {\n",
              "          const element = document.querySelector('#df-3ce8be2d-a7c3-4fb9-9aaa-c85b32d1280a');\n",
              "          const dataTable =\n",
              "            await google.colab.kernel.invokeFunction('convertToInteractive',\n",
              "                                                     [key], {});\n",
              "          if (!dataTable) return;\n",
              "\n",
              "          const docLinkHtml = 'Like what you see? Visit the ' +\n",
              "            '<a target=\"_blank\" href=https://colab.research.google.com/notebooks/data_table.ipynb>data table notebook</a>'\n",
              "            + ' to learn more about interactive tables.';\n",
              "          element.innerHTML = '';\n",
              "          dataTable['output_type'] = 'display_data';\n",
              "          await google.colab.output.renderOutput(dataTable, element);\n",
              "          const docLink = document.createElement('div');\n",
              "          docLink.innerHTML = docLinkHtml;\n",
              "          element.appendChild(docLink);\n",
              "        }\n",
              "      </script>\n",
              "    </div>\n",
              "  </div>\n",
              "  "
            ]
          },
          "metadata": {},
          "execution_count": 30
        }
      ],
      "source": [
        "spacex_df.tail(10)"
      ]
    },
    {
      "cell_type": "markdown",
      "metadata": {
        "id": "YvkfXvLdQRAG"
      },
      "source": [
        "A continuación, vamos a crear marcadores para todos los registros de lanzamiento.\n",
        "Si un lanzamiento fue exitoso `(class=1)`, entonces usamos un marcador verde y si un lanzamiento fue fallido, usamos un marcador rojo `(class=0)`.\n"
      ]
    },
    {
      "cell_type": "markdown",
      "metadata": {
        "id": "kHidNvALQRAG"
      },
      "source": [
        "Tenga en cuenta que un lanzamiento sólo se produce en uno de los cuatro sitios de lanzamiento, lo que significa que muchos registros de lanzamiento tendrán exactamente la misma coordenada. Los grupos de marcadores pueden ser una buena forma de simplificar un mapa que contenga muchos marcadores con la misma coordenada.\n"
      ]
    },
    {
      "cell_type": "markdown",
      "metadata": {
        "id": "4LY0TX5hQRAH"
      },
      "source": [
        "Primero vamos a crear un objeto `MarkerCluster`.\n"
      ]
    },
    {
      "cell_type": "code",
      "execution_count": 31,
      "metadata": {
        "id": "wP9PVUZ7Jfjt",
        "papermill": {
          "duration": 0.904519,
          "end_time": "2020-09-19T06:27:38.357041",
          "exception": false,
          "start_time": "2020-09-19T06:27:37.452522",
          "status": "completed"
        },
        "tags": []
      },
      "outputs": [],
      "source": [
        "marker_cluster = MarkerCluster()\n"
      ]
    },
    {
      "cell_type": "markdown",
      "metadata": {
        "id": "-SyXf05YQRAH"
      },
      "source": [
        "### Crea una nueva columna en el dataframe `launch_sites` llamada `marker_color` para almacenar los colores de los marcadores basados en el valor `class\n"
      ]
    },
    {
      "cell_type": "markdown",
      "source": [
        "Crea una función llamada `assign_marker_color` que devuelva `green` o `red` en función de si `class` (argumento) es 1 o 0. Aplica esta función a la columna `class` dataset mediante el método `df[\"columna\"].apply(funcion)`. Por último, guardala en la columna `marker_color`"
      ],
      "metadata": {
        "id": "NP9DMAAVyutG"
      }
    },
    {
      "cell_type": "code",
      "execution_count": 40,
      "metadata": {
        "id": "J0aFt4lrQRAI",
        "outputId": "8242797b-1b32-4315-fe62-8c9c8f575ae5",
        "colab": {
          "base_uri": "https://localhost:8080/",
          "height": 363
        }
      },
      "outputs": [
        {
          "output_type": "execute_result",
          "data": {
            "text/plain": [
              "     Launch Site        Lat       Long  class marker_color\n",
              "46    KSC LC-39A  28.573255 -80.646895      1        green\n",
              "47    KSC LC-39A  28.573255 -80.646895      1        green\n",
              "48    KSC LC-39A  28.573255 -80.646895      1        green\n",
              "49  CCAFS SLC-40  28.563197 -80.576820      1        green\n",
              "50  CCAFS SLC-40  28.563197 -80.576820      1        green\n",
              "51  CCAFS SLC-40  28.563197 -80.576820      0          red\n",
              "52  CCAFS SLC-40  28.563197 -80.576820      0          red\n",
              "53  CCAFS SLC-40  28.563197 -80.576820      0          red\n",
              "54  CCAFS SLC-40  28.563197 -80.576820      1        green\n",
              "55  CCAFS SLC-40  28.563197 -80.576820      0          red"
            ],
            "text/html": [
              "\n",
              "  <div id=\"df-f113f9ea-6ad8-48e1-be44-767dedb8c87b\">\n",
              "    <div class=\"colab-df-container\">\n",
              "      <div>\n",
              "<style scoped>\n",
              "    .dataframe tbody tr th:only-of-type {\n",
              "        vertical-align: middle;\n",
              "    }\n",
              "\n",
              "    .dataframe tbody tr th {\n",
              "        vertical-align: top;\n",
              "    }\n",
              "\n",
              "    .dataframe thead th {\n",
              "        text-align: right;\n",
              "    }\n",
              "</style>\n",
              "<table border=\"1\" class=\"dataframe\">\n",
              "  <thead>\n",
              "    <tr style=\"text-align: right;\">\n",
              "      <th></th>\n",
              "      <th>Launch Site</th>\n",
              "      <th>Lat</th>\n",
              "      <th>Long</th>\n",
              "      <th>class</th>\n",
              "      <th>marker_color</th>\n",
              "    </tr>\n",
              "  </thead>\n",
              "  <tbody>\n",
              "    <tr>\n",
              "      <th>46</th>\n",
              "      <td>KSC LC-39A</td>\n",
              "      <td>28.573255</td>\n",
              "      <td>-80.646895</td>\n",
              "      <td>1</td>\n",
              "      <td>green</td>\n",
              "    </tr>\n",
              "    <tr>\n",
              "      <th>47</th>\n",
              "      <td>KSC LC-39A</td>\n",
              "      <td>28.573255</td>\n",
              "      <td>-80.646895</td>\n",
              "      <td>1</td>\n",
              "      <td>green</td>\n",
              "    </tr>\n",
              "    <tr>\n",
              "      <th>48</th>\n",
              "      <td>KSC LC-39A</td>\n",
              "      <td>28.573255</td>\n",
              "      <td>-80.646895</td>\n",
              "      <td>1</td>\n",
              "      <td>green</td>\n",
              "    </tr>\n",
              "    <tr>\n",
              "      <th>49</th>\n",
              "      <td>CCAFS SLC-40</td>\n",
              "      <td>28.563197</td>\n",
              "      <td>-80.576820</td>\n",
              "      <td>1</td>\n",
              "      <td>green</td>\n",
              "    </tr>\n",
              "    <tr>\n",
              "      <th>50</th>\n",
              "      <td>CCAFS SLC-40</td>\n",
              "      <td>28.563197</td>\n",
              "      <td>-80.576820</td>\n",
              "      <td>1</td>\n",
              "      <td>green</td>\n",
              "    </tr>\n",
              "    <tr>\n",
              "      <th>51</th>\n",
              "      <td>CCAFS SLC-40</td>\n",
              "      <td>28.563197</td>\n",
              "      <td>-80.576820</td>\n",
              "      <td>0</td>\n",
              "      <td>red</td>\n",
              "    </tr>\n",
              "    <tr>\n",
              "      <th>52</th>\n",
              "      <td>CCAFS SLC-40</td>\n",
              "      <td>28.563197</td>\n",
              "      <td>-80.576820</td>\n",
              "      <td>0</td>\n",
              "      <td>red</td>\n",
              "    </tr>\n",
              "    <tr>\n",
              "      <th>53</th>\n",
              "      <td>CCAFS SLC-40</td>\n",
              "      <td>28.563197</td>\n",
              "      <td>-80.576820</td>\n",
              "      <td>0</td>\n",
              "      <td>red</td>\n",
              "    </tr>\n",
              "    <tr>\n",
              "      <th>54</th>\n",
              "      <td>CCAFS SLC-40</td>\n",
              "      <td>28.563197</td>\n",
              "      <td>-80.576820</td>\n",
              "      <td>1</td>\n",
              "      <td>green</td>\n",
              "    </tr>\n",
              "    <tr>\n",
              "      <th>55</th>\n",
              "      <td>CCAFS SLC-40</td>\n",
              "      <td>28.563197</td>\n",
              "      <td>-80.576820</td>\n",
              "      <td>0</td>\n",
              "      <td>red</td>\n",
              "    </tr>\n",
              "  </tbody>\n",
              "</table>\n",
              "</div>\n",
              "      <button class=\"colab-df-convert\" onclick=\"convertToInteractive('df-f113f9ea-6ad8-48e1-be44-767dedb8c87b')\"\n",
              "              title=\"Convert this dataframe to an interactive table.\"\n",
              "              style=\"display:none;\">\n",
              "        \n",
              "  <svg xmlns=\"http://www.w3.org/2000/svg\" height=\"24px\"viewBox=\"0 0 24 24\"\n",
              "       width=\"24px\">\n",
              "    <path d=\"M0 0h24v24H0V0z\" fill=\"none\"/>\n",
              "    <path d=\"M18.56 5.44l.94 2.06.94-2.06 2.06-.94-2.06-.94-.94-2.06-.94 2.06-2.06.94zm-11 1L8.5 8.5l.94-2.06 2.06-.94-2.06-.94L8.5 2.5l-.94 2.06-2.06.94zm10 10l.94 2.06.94-2.06 2.06-.94-2.06-.94-.94-2.06-.94 2.06-2.06.94z\"/><path d=\"M17.41 7.96l-1.37-1.37c-.4-.4-.92-.59-1.43-.59-.52 0-1.04.2-1.43.59L10.3 9.45l-7.72 7.72c-.78.78-.78 2.05 0 2.83L4 21.41c.39.39.9.59 1.41.59.51 0 1.02-.2 1.41-.59l7.78-7.78 2.81-2.81c.8-.78.8-2.07 0-2.86zM5.41 20L4 18.59l7.72-7.72 1.47 1.35L5.41 20z\"/>\n",
              "  </svg>\n",
              "      </button>\n",
              "      \n",
              "  <style>\n",
              "    .colab-df-container {\n",
              "      display:flex;\n",
              "      flex-wrap:wrap;\n",
              "      gap: 12px;\n",
              "    }\n",
              "\n",
              "    .colab-df-convert {\n",
              "      background-color: #E8F0FE;\n",
              "      border: none;\n",
              "      border-radius: 50%;\n",
              "      cursor: pointer;\n",
              "      display: none;\n",
              "      fill: #1967D2;\n",
              "      height: 32px;\n",
              "      padding: 0 0 0 0;\n",
              "      width: 32px;\n",
              "    }\n",
              "\n",
              "    .colab-df-convert:hover {\n",
              "      background-color: #E2EBFA;\n",
              "      box-shadow: 0px 1px 2px rgba(60, 64, 67, 0.3), 0px 1px 3px 1px rgba(60, 64, 67, 0.15);\n",
              "      fill: #174EA6;\n",
              "    }\n",
              "\n",
              "    [theme=dark] .colab-df-convert {\n",
              "      background-color: #3B4455;\n",
              "      fill: #D2E3FC;\n",
              "    }\n",
              "\n",
              "    [theme=dark] .colab-df-convert:hover {\n",
              "      background-color: #434B5C;\n",
              "      box-shadow: 0px 1px 3px 1px rgba(0, 0, 0, 0.15);\n",
              "      filter: drop-shadow(0px 1px 2px rgba(0, 0, 0, 0.3));\n",
              "      fill: #FFFFFF;\n",
              "    }\n",
              "  </style>\n",
              "\n",
              "      <script>\n",
              "        const buttonEl =\n",
              "          document.querySelector('#df-f113f9ea-6ad8-48e1-be44-767dedb8c87b button.colab-df-convert');\n",
              "        buttonEl.style.display =\n",
              "          google.colab.kernel.accessAllowed ? 'block' : 'none';\n",
              "\n",
              "        async function convertToInteractive(key) {\n",
              "          const element = document.querySelector('#df-f113f9ea-6ad8-48e1-be44-767dedb8c87b');\n",
              "          const dataTable =\n",
              "            await google.colab.kernel.invokeFunction('convertToInteractive',\n",
              "                                                     [key], {});\n",
              "          if (!dataTable) return;\n",
              "\n",
              "          const docLinkHtml = 'Like what you see? Visit the ' +\n",
              "            '<a target=\"_blank\" href=https://colab.research.google.com/notebooks/data_table.ipynb>data table notebook</a>'\n",
              "            + ' to learn more about interactive tables.';\n",
              "          element.innerHTML = '';\n",
              "          dataTable['output_type'] = 'display_data';\n",
              "          await google.colab.output.renderOutput(dataTable, element);\n",
              "          const docLink = document.createElement('div');\n",
              "          docLink.innerHTML = docLinkHtml;\n",
              "          element.appendChild(docLink);\n",
              "        }\n",
              "      </script>\n",
              "    </div>\n",
              "  </div>\n",
              "  "
            ]
          },
          "metadata": {},
          "execution_count": 40
        }
      ],
      "source": [
        "# Inserta tu código aquí\n",
        "def assign_marker(row):\n",
        "  if row == 1:\n",
        "    return 'green'\n",
        "  if row == 0:\n",
        "    return 'red'\n",
        "\n",
        "spacex_df['marker_color'] = list(map(assign_marker, spacex_df['class']))\n",
        "\n",
        "spacex_df[['Launch Site', 'Lat', 'Long', 'class', 'marker_color']].tail(10)  "
      ]
    },
    {
      "cell_type": "markdown",
      "metadata": {
        "id": "IzvNH8hkQRAI"
      },
      "source": [
        "### Para cada resultado de lanzamiento en el marco de datos `spacex_df`, añadir un `folium.Marker` a `marker_cluster`\n"
      ]
    },
    {
      "cell_type": "markdown",
      "source": [
        "\n",
        "```\n",
        "folium.Marker([coordenadas], \n",
        "icon=folium.Icon(color='white', \n",
        "icon_color=record['marker_color']))\n",
        "```\n"
      ],
      "metadata": {
        "id": "YeQOQwQKjr1e"
      }
    },
    {
      "cell_type": "code",
      "source": [
        "indice = 0\n",
        "for row in launch_sites_df:\n",
        "    circle = folium.Circle(launch_sites_df['Coordinate'].iloc[indice], color='#d35400', radius=50, fill=True).add_child(folium.Popup(launch_sites_df['Launch Site'].iloc[indice]))\n",
        "    marker = folium.Marker(\n",
        "    launch_sites_df['Coordinate'].iloc[indice],\n",
        "    icon=DivIcon(\n",
        "        icon_size=(20,20),\n",
        "        icon_anchor=(0,0),\n",
        "        html='<div style=\"font-size: 12; color:#d35400;\"><b>%s</b></div>' % launch_sites_df['Launch Site'].iloc[indice],\n",
        "        )\n",
        "    )\n",
        "    site_map.add_child(circle)\n",
        "    site_map.add_child(marker)\n",
        "    indice += 1\n",
        "\n",
        "site_map"
      ],
      "metadata": {
        "id": "6qLL-bhyBklI"
      },
      "execution_count": null,
      "outputs": []
    },
    {
      "cell_type": "code",
      "execution_count": 43,
      "metadata": {
        "id": "ciqpVF7uQRAJ",
        "outputId": "17635dd4-f467-4724-ac65-b34cb38b3add",
        "colab": {
          "base_uri": "https://localhost:8080/",
          "height": 685
        }
      },
      "outputs": [
        {
          "output_type": "execute_result",
          "data": {
            "text/plain": [
              "<folium.folium.Map at 0x7f71463a4b20>"
            ],
            "text/html": [
              "<div style=\"width:100%;\"><div style=\"position:relative;width:100%;height:0;padding-bottom:60%;\"><span style=\"color:#565656\">Make this Notebook Trusted to load map: File -> Trust Notebook</span><iframe srcdoc=\"&lt;!DOCTYPE html&gt;\n",
              "&lt;html&gt;\n",
              "&lt;head&gt;\n",
              "    \n",
              "    &lt;meta http-equiv=&quot;content-type&quot; content=&quot;text/html; charset=UTF-8&quot; /&gt;\n",
              "    \n",
              "        &lt;script&gt;\n",
              "            L_NO_TOUCH = false;\n",
              "            L_DISABLE_3D = false;\n",
              "        &lt;/script&gt;\n",
              "    \n",
              "    &lt;style&gt;html, body {width: 100%;height: 100%;margin: 0;padding: 0;}&lt;/style&gt;\n",
              "    &lt;style&gt;#map {position:absolute;top:0;bottom:0;right:0;left:0;}&lt;/style&gt;\n",
              "    &lt;script src=&quot;https://cdn.jsdelivr.net/npm/leaflet@1.9.3/dist/leaflet.js&quot;&gt;&lt;/script&gt;\n",
              "    &lt;script src=&quot;https://code.jquery.com/jquery-1.12.4.min.js&quot;&gt;&lt;/script&gt;\n",
              "    &lt;script src=&quot;https://cdn.jsdelivr.net/npm/bootstrap@5.2.2/dist/js/bootstrap.bundle.min.js&quot;&gt;&lt;/script&gt;\n",
              "    &lt;script src=&quot;https://cdnjs.cloudflare.com/ajax/libs/Leaflet.awesome-markers/2.0.2/leaflet.awesome-markers.js&quot;&gt;&lt;/script&gt;\n",
              "    &lt;link rel=&quot;stylesheet&quot; href=&quot;https://cdn.jsdelivr.net/npm/leaflet@1.9.3/dist/leaflet.css&quot;/&gt;\n",
              "    &lt;link rel=&quot;stylesheet&quot; href=&quot;https://cdn.jsdelivr.net/npm/bootstrap@5.2.2/dist/css/bootstrap.min.css&quot;/&gt;\n",
              "    &lt;link rel=&quot;stylesheet&quot; href=&quot;https://netdna.bootstrapcdn.com/bootstrap/3.0.0/css/bootstrap.min.css&quot;/&gt;\n",
              "    &lt;link rel=&quot;stylesheet&quot; href=&quot;https://cdn.jsdelivr.net/npm/@fortawesome/fontawesome-free@6.2.0/css/all.min.css&quot;/&gt;\n",
              "    &lt;link rel=&quot;stylesheet&quot; href=&quot;https://cdnjs.cloudflare.com/ajax/libs/Leaflet.awesome-markers/2.0.2/leaflet.awesome-markers.css&quot;/&gt;\n",
              "    &lt;link rel=&quot;stylesheet&quot; href=&quot;https://cdn.jsdelivr.net/gh/python-visualization/folium/folium/templates/leaflet.awesome.rotate.min.css&quot;/&gt;\n",
              "    \n",
              "            &lt;meta name=&quot;viewport&quot; content=&quot;width=device-width,\n",
              "                initial-scale=1.0, maximum-scale=1.0, user-scalable=no&quot; /&gt;\n",
              "            &lt;style&gt;\n",
              "                #map_3e2f0dbfa8fe0d1a565f23218faac3bc {\n",
              "                    position: relative;\n",
              "                    width: 100.0%;\n",
              "                    height: 100.0%;\n",
              "                    left: 0.0%;\n",
              "                    top: 0.0%;\n",
              "                }\n",
              "                .leaflet-container { font-size: 1rem; }\n",
              "            &lt;/style&gt;\n",
              "        \n",
              "    &lt;script src=&quot;https://cdnjs.cloudflare.com/ajax/libs/leaflet.markercluster/1.1.0/leaflet.markercluster.js&quot;&gt;&lt;/script&gt;\n",
              "    &lt;link rel=&quot;stylesheet&quot; href=&quot;https://cdnjs.cloudflare.com/ajax/libs/leaflet.markercluster/1.1.0/MarkerCluster.css&quot;/&gt;\n",
              "    &lt;link rel=&quot;stylesheet&quot; href=&quot;https://cdnjs.cloudflare.com/ajax/libs/leaflet.markercluster/1.1.0/MarkerCluster.Default.css&quot;/&gt;\n",
              "&lt;/head&gt;\n",
              "&lt;body&gt;\n",
              "    \n",
              "    \n",
              "            &lt;div class=&quot;folium-map&quot; id=&quot;map_3e2f0dbfa8fe0d1a565f23218faac3bc&quot; &gt;&lt;/div&gt;\n",
              "        \n",
              "&lt;/body&gt;\n",
              "&lt;script&gt;\n",
              "    \n",
              "    \n",
              "            var map_3e2f0dbfa8fe0d1a565f23218faac3bc = L.map(\n",
              "                &quot;map_3e2f0dbfa8fe0d1a565f23218faac3bc&quot;,\n",
              "                {\n",
              "                    center: [29.559684888503615, -95.0830971930759],\n",
              "                    crs: L.CRS.EPSG3857,\n",
              "                    zoom: 5,\n",
              "                    zoomControl: true,\n",
              "                    preferCanvas: false,\n",
              "                }\n",
              "            );\n",
              "\n",
              "            \n",
              "\n",
              "        \n",
              "    \n",
              "            var tile_layer_add5da76a2cee5e0ff0a435f336db6ce = L.tileLayer(\n",
              "                &quot;https://{s}.tile.openstreetmap.org/{z}/{x}/{y}.png&quot;,\n",
              "                {&quot;attribution&quot;: &quot;Data by \\u0026copy; \\u003ca target=\\&quot;_blank\\&quot; href=\\&quot;http://openstreetmap.org\\&quot;\\u003eOpenStreetMap\\u003c/a\\u003e, under \\u003ca target=\\&quot;_blank\\&quot; href=\\&quot;http://www.openstreetmap.org/copyright\\&quot;\\u003eODbL\\u003c/a\\u003e.&quot;, &quot;detectRetina&quot;: false, &quot;maxNativeZoom&quot;: 18, &quot;maxZoom&quot;: 18, &quot;minZoom&quot;: 0, &quot;noWrap&quot;: false, &quot;opacity&quot;: 1, &quot;subdomains&quot;: &quot;abc&quot;, &quot;tms&quot;: false}\n",
              "            ).addTo(map_3e2f0dbfa8fe0d1a565f23218faac3bc);\n",
              "        \n",
              "    \n",
              "            var circle_67a0c7b113aefff51babb670af1d5fba = L.circle(\n",
              "                [28.56230197, -80.57735648],\n",
              "                {&quot;bubblingMouseEvents&quot;: true, &quot;color&quot;: &quot;#d35400&quot;, &quot;dashArray&quot;: null, &quot;dashOffset&quot;: null, &quot;fill&quot;: true, &quot;fillColor&quot;: &quot;#d35400&quot;, &quot;fillOpacity&quot;: 0.2, &quot;fillRule&quot;: &quot;evenodd&quot;, &quot;lineCap&quot;: &quot;round&quot;, &quot;lineJoin&quot;: &quot;round&quot;, &quot;opacity&quot;: 1.0, &quot;radius&quot;: 50, &quot;stroke&quot;: true, &quot;weight&quot;: 3}\n",
              "            ).addTo(map_3e2f0dbfa8fe0d1a565f23218faac3bc);\n",
              "        \n",
              "    \n",
              "        var popup_f26ab64b8dc472759398b74babd016dd = L.popup({&quot;maxWidth&quot;: &quot;100%&quot;});\n",
              "\n",
              "        \n",
              "            \n",
              "                var html_3d7574b0cbda35f99043ee0e26f7f286 = $(`&lt;div id=&quot;html_3d7574b0cbda35f99043ee0e26f7f286&quot; style=&quot;width: 100.0%; height: 100.0%;&quot;&gt;CCAFS LC-40&lt;/div&gt;`)[0];\n",
              "                popup_f26ab64b8dc472759398b74babd016dd.setContent(html_3d7574b0cbda35f99043ee0e26f7f286);\n",
              "            \n",
              "        \n",
              "\n",
              "        circle_67a0c7b113aefff51babb670af1d5fba.bindPopup(popup_f26ab64b8dc472759398b74babd016dd)\n",
              "        ;\n",
              "\n",
              "        \n",
              "    \n",
              "    \n",
              "            var marker_2d01b2edf5d7936663260dab2e21a762 = L.marker(\n",
              "                [28.56230197, -80.57735648],\n",
              "                {}\n",
              "            ).addTo(map_3e2f0dbfa8fe0d1a565f23218faac3bc);\n",
              "        \n",
              "    \n",
              "            var div_icon_b538b74c25cab7b615b5e19bd07cb111 = L.divIcon({&quot;className&quot;: &quot;empty&quot;, &quot;html&quot;: &quot;\\u003cdiv style=\\&quot;font-size: 12; color:#d35400;\\&quot;\\u003e\\u003cb\\u003eCCAFS LC-40\\u003c/b\\u003e\\u003c/div\\u003e&quot;, &quot;iconAnchor&quot;: [0, 0], &quot;iconSize&quot;: [20, 20]});\n",
              "            marker_2d01b2edf5d7936663260dab2e21a762.setIcon(div_icon_b538b74c25cab7b615b5e19bd07cb111);\n",
              "        \n",
              "    \n",
              "            var circle_8e80f604afba5097b7b557f522d6e53d = L.circle(\n",
              "                [28.56319718, -80.57682003],\n",
              "                {&quot;bubblingMouseEvents&quot;: true, &quot;color&quot;: &quot;#d35400&quot;, &quot;dashArray&quot;: null, &quot;dashOffset&quot;: null, &quot;fill&quot;: true, &quot;fillColor&quot;: &quot;#d35400&quot;, &quot;fillOpacity&quot;: 0.2, &quot;fillRule&quot;: &quot;evenodd&quot;, &quot;lineCap&quot;: &quot;round&quot;, &quot;lineJoin&quot;: &quot;round&quot;, &quot;opacity&quot;: 1.0, &quot;radius&quot;: 50, &quot;stroke&quot;: true, &quot;weight&quot;: 3}\n",
              "            ).addTo(map_3e2f0dbfa8fe0d1a565f23218faac3bc);\n",
              "        \n",
              "    \n",
              "        var popup_bae44f61f68f98014fb9e97ec10a1b32 = L.popup({&quot;maxWidth&quot;: &quot;100%&quot;});\n",
              "\n",
              "        \n",
              "            \n",
              "                var html_4556c310b0e1cc4c789d2dfc7bbede2a = $(`&lt;div id=&quot;html_4556c310b0e1cc4c789d2dfc7bbede2a&quot; style=&quot;width: 100.0%; height: 100.0%;&quot;&gt;CCAFS SLC-40&lt;/div&gt;`)[0];\n",
              "                popup_bae44f61f68f98014fb9e97ec10a1b32.setContent(html_4556c310b0e1cc4c789d2dfc7bbede2a);\n",
              "            \n",
              "        \n",
              "\n",
              "        circle_8e80f604afba5097b7b557f522d6e53d.bindPopup(popup_bae44f61f68f98014fb9e97ec10a1b32)\n",
              "        ;\n",
              "\n",
              "        \n",
              "    \n",
              "    \n",
              "            var marker_b028986d469c158139c8d9411bcef124 = L.marker(\n",
              "                [28.56319718, -80.57682003],\n",
              "                {}\n",
              "            ).addTo(map_3e2f0dbfa8fe0d1a565f23218faac3bc);\n",
              "        \n",
              "    \n",
              "            var div_icon_4ea0a70921048e2897a55552c8e2caac = L.divIcon({&quot;className&quot;: &quot;empty&quot;, &quot;html&quot;: &quot;\\u003cdiv style=\\&quot;font-size: 12; color:#d35400;\\&quot;\\u003e\\u003cb\\u003eCCAFS SLC-40\\u003c/b\\u003e\\u003c/div\\u003e&quot;, &quot;iconAnchor&quot;: [0, 0], &quot;iconSize&quot;: [20, 20]});\n",
              "            marker_b028986d469c158139c8d9411bcef124.setIcon(div_icon_4ea0a70921048e2897a55552c8e2caac);\n",
              "        \n",
              "    \n",
              "            var circle_5c7b5a91541d3c87565972284eb4a85c = L.circle(\n",
              "                [28.57325457, -80.64689529],\n",
              "                {&quot;bubblingMouseEvents&quot;: true, &quot;color&quot;: &quot;#d35400&quot;, &quot;dashArray&quot;: null, &quot;dashOffset&quot;: null, &quot;fill&quot;: true, &quot;fillColor&quot;: &quot;#d35400&quot;, &quot;fillOpacity&quot;: 0.2, &quot;fillRule&quot;: &quot;evenodd&quot;, &quot;lineCap&quot;: &quot;round&quot;, &quot;lineJoin&quot;: &quot;round&quot;, &quot;opacity&quot;: 1.0, &quot;radius&quot;: 50, &quot;stroke&quot;: true, &quot;weight&quot;: 3}\n",
              "            ).addTo(map_3e2f0dbfa8fe0d1a565f23218faac3bc);\n",
              "        \n",
              "    \n",
              "        var popup_723f26b167cc94a41bed4e6843d25b63 = L.popup({&quot;maxWidth&quot;: &quot;100%&quot;});\n",
              "\n",
              "        \n",
              "            \n",
              "                var html_551cdd8af64014045549dd29a51080a0 = $(`&lt;div id=&quot;html_551cdd8af64014045549dd29a51080a0&quot; style=&quot;width: 100.0%; height: 100.0%;&quot;&gt;KSC LC-39A&lt;/div&gt;`)[0];\n",
              "                popup_723f26b167cc94a41bed4e6843d25b63.setContent(html_551cdd8af64014045549dd29a51080a0);\n",
              "            \n",
              "        \n",
              "\n",
              "        circle_5c7b5a91541d3c87565972284eb4a85c.bindPopup(popup_723f26b167cc94a41bed4e6843d25b63)\n",
              "        ;\n",
              "\n",
              "        \n",
              "    \n",
              "    \n",
              "            var marker_80013728a76723cd4e5e0dd110e81bf6 = L.marker(\n",
              "                [28.57325457, -80.64689529],\n",
              "                {}\n",
              "            ).addTo(map_3e2f0dbfa8fe0d1a565f23218faac3bc);\n",
              "        \n",
              "    \n",
              "            var div_icon_a5fcb7fb268a1644d375d4e412bd1a04 = L.divIcon({&quot;className&quot;: &quot;empty&quot;, &quot;html&quot;: &quot;\\u003cdiv style=\\&quot;font-size: 12; color:#d35400;\\&quot;\\u003e\\u003cb\\u003eKSC LC-39A\\u003c/b\\u003e\\u003c/div\\u003e&quot;, &quot;iconAnchor&quot;: [0, 0], &quot;iconSize&quot;: [20, 20]});\n",
              "            marker_80013728a76723cd4e5e0dd110e81bf6.setIcon(div_icon_a5fcb7fb268a1644d375d4e412bd1a04);\n",
              "        \n",
              "    \n",
              "            var circle_332d39a2237b5fc7ec84a9efd73e527d = L.circle(\n",
              "                [34.63283416, -120.6107455],\n",
              "                {&quot;bubblingMouseEvents&quot;: true, &quot;color&quot;: &quot;#d35400&quot;, &quot;dashArray&quot;: null, &quot;dashOffset&quot;: null, &quot;fill&quot;: true, &quot;fillColor&quot;: &quot;#d35400&quot;, &quot;fillOpacity&quot;: 0.2, &quot;fillRule&quot;: &quot;evenodd&quot;, &quot;lineCap&quot;: &quot;round&quot;, &quot;lineJoin&quot;: &quot;round&quot;, &quot;opacity&quot;: 1.0, &quot;radius&quot;: 50, &quot;stroke&quot;: true, &quot;weight&quot;: 3}\n",
              "            ).addTo(map_3e2f0dbfa8fe0d1a565f23218faac3bc);\n",
              "        \n",
              "    \n",
              "        var popup_8ea598311d1baef830db47931a8cd264 = L.popup({&quot;maxWidth&quot;: &quot;100%&quot;});\n",
              "\n",
              "        \n",
              "            \n",
              "                var html_b1a90766b9592ad5e0f7c0e852e46ec1 = $(`&lt;div id=&quot;html_b1a90766b9592ad5e0f7c0e852e46ec1&quot; style=&quot;width: 100.0%; height: 100.0%;&quot;&gt;VAFB SLC-4E&lt;/div&gt;`)[0];\n",
              "                popup_8ea598311d1baef830db47931a8cd264.setContent(html_b1a90766b9592ad5e0f7c0e852e46ec1);\n",
              "            \n",
              "        \n",
              "\n",
              "        circle_332d39a2237b5fc7ec84a9efd73e527d.bindPopup(popup_8ea598311d1baef830db47931a8cd264)\n",
              "        ;\n",
              "\n",
              "        \n",
              "    \n",
              "    \n",
              "            var marker_59f28110d2019e7bfdcb9302d0fa428a = L.marker(\n",
              "                [34.63283416, -120.6107455],\n",
              "                {}\n",
              "            ).addTo(map_3e2f0dbfa8fe0d1a565f23218faac3bc);\n",
              "        \n",
              "    \n",
              "            var div_icon_5e2fbc444a503a36605e0ef6374c0f93 = L.divIcon({&quot;className&quot;: &quot;empty&quot;, &quot;html&quot;: &quot;\\u003cdiv style=\\&quot;font-size: 12; color:#d35400;\\&quot;\\u003e\\u003cb\\u003eVAFB SLC-4E\\u003c/b\\u003e\\u003c/div\\u003e&quot;, &quot;iconAnchor&quot;: [0, 0], &quot;iconSize&quot;: [20, 20]});\n",
              "            marker_59f28110d2019e7bfdcb9302d0fa428a.setIcon(div_icon_5e2fbc444a503a36605e0ef6374c0f93);\n",
              "        \n",
              "    \n",
              "            var marker_cluster_bef584b3a483bc2d299c75f0bc150674 = L.markerClusterGroup(\n",
              "                {}\n",
              "            );\n",
              "            map_3e2f0dbfa8fe0d1a565f23218faac3bc.addLayer(marker_cluster_bef584b3a483bc2d299c75f0bc150674);\n",
              "        \n",
              "    \n",
              "            var marker_9ecde8b2d4927e45197d18c284d29180 = L.marker(\n",
              "                [28.56230197, -80.57735648],\n",
              "                {}\n",
              "            ).addTo(marker_cluster_bef584b3a483bc2d299c75f0bc150674);\n",
              "        \n",
              "    \n",
              "            var icon_6563aa556d1b884baff6c39e3f258e22 = L.AwesomeMarkers.icon(\n",
              "                {&quot;extraClasses&quot;: &quot;fa-rotate-0&quot;, &quot;icon&quot;: &quot;info-sign&quot;, &quot;iconColor&quot;: &quot;red&quot;, &quot;markerColor&quot;: &quot;white&quot;, &quot;prefix&quot;: &quot;glyphicon&quot;}\n",
              "            );\n",
              "            marker_9ecde8b2d4927e45197d18c284d29180.setIcon(icon_6563aa556d1b884baff6c39e3f258e22);\n",
              "        \n",
              "    \n",
              "            var marker_3de9911b4d462b6e4d31570585f70d7c = L.marker(\n",
              "                [28.56230197, -80.57735648],\n",
              "                {}\n",
              "            ).addTo(marker_cluster_bef584b3a483bc2d299c75f0bc150674);\n",
              "        \n",
              "    \n",
              "            var icon_2d8650557a01713a9ebd429a41a3082a = L.AwesomeMarkers.icon(\n",
              "                {&quot;extraClasses&quot;: &quot;fa-rotate-0&quot;, &quot;icon&quot;: &quot;info-sign&quot;, &quot;iconColor&quot;: &quot;red&quot;, &quot;markerColor&quot;: &quot;white&quot;, &quot;prefix&quot;: &quot;glyphicon&quot;}\n",
              "            );\n",
              "            marker_3de9911b4d462b6e4d31570585f70d7c.setIcon(icon_2d8650557a01713a9ebd429a41a3082a);\n",
              "        \n",
              "    \n",
              "            var marker_2077624315818820a0765ea58c2dd0c5 = L.marker(\n",
              "                [28.56230197, -80.57735648],\n",
              "                {}\n",
              "            ).addTo(marker_cluster_bef584b3a483bc2d299c75f0bc150674);\n",
              "        \n",
              "    \n",
              "            var icon_e6fa90e335d32e207dd5a867d5b6fcfe = L.AwesomeMarkers.icon(\n",
              "                {&quot;extraClasses&quot;: &quot;fa-rotate-0&quot;, &quot;icon&quot;: &quot;info-sign&quot;, &quot;iconColor&quot;: &quot;red&quot;, &quot;markerColor&quot;: &quot;white&quot;, &quot;prefix&quot;: &quot;glyphicon&quot;}\n",
              "            );\n",
              "            marker_2077624315818820a0765ea58c2dd0c5.setIcon(icon_e6fa90e335d32e207dd5a867d5b6fcfe);\n",
              "        \n",
              "    \n",
              "            var marker_86f501f66655514093cdd09387b77ab3 = L.marker(\n",
              "                [28.56230197, -80.57735648],\n",
              "                {}\n",
              "            ).addTo(marker_cluster_bef584b3a483bc2d299c75f0bc150674);\n",
              "        \n",
              "    \n",
              "            var icon_8beb5d88fe929da07ba614d959687f1f = L.AwesomeMarkers.icon(\n",
              "                {&quot;extraClasses&quot;: &quot;fa-rotate-0&quot;, &quot;icon&quot;: &quot;info-sign&quot;, &quot;iconColor&quot;: &quot;red&quot;, &quot;markerColor&quot;: &quot;white&quot;, &quot;prefix&quot;: &quot;glyphicon&quot;}\n",
              "            );\n",
              "            marker_86f501f66655514093cdd09387b77ab3.setIcon(icon_8beb5d88fe929da07ba614d959687f1f);\n",
              "        \n",
              "    \n",
              "            var marker_cc9975ce42e6c0d64d4084d828a909f6 = L.marker(\n",
              "                [28.56230197, -80.57735648],\n",
              "                {}\n",
              "            ).addTo(marker_cluster_bef584b3a483bc2d299c75f0bc150674);\n",
              "        \n",
              "    \n",
              "            var icon_a85cb8fb49b02b693964aaf4eb572abd = L.AwesomeMarkers.icon(\n",
              "                {&quot;extraClasses&quot;: &quot;fa-rotate-0&quot;, &quot;icon&quot;: &quot;info-sign&quot;, &quot;iconColor&quot;: &quot;red&quot;, &quot;markerColor&quot;: &quot;white&quot;, &quot;prefix&quot;: &quot;glyphicon&quot;}\n",
              "            );\n",
              "            marker_cc9975ce42e6c0d64d4084d828a909f6.setIcon(icon_a85cb8fb49b02b693964aaf4eb572abd);\n",
              "        \n",
              "    \n",
              "            var marker_063bfc36b19eb56db6aa898f94174f77 = L.marker(\n",
              "                [28.56230197, -80.57735648],\n",
              "                {}\n",
              "            ).addTo(marker_cluster_bef584b3a483bc2d299c75f0bc150674);\n",
              "        \n",
              "    \n",
              "            var icon_bb6dfad9c27c736a77bc268772f2c30a = L.AwesomeMarkers.icon(\n",
              "                {&quot;extraClasses&quot;: &quot;fa-rotate-0&quot;, &quot;icon&quot;: &quot;info-sign&quot;, &quot;iconColor&quot;: &quot;red&quot;, &quot;markerColor&quot;: &quot;white&quot;, &quot;prefix&quot;: &quot;glyphicon&quot;}\n",
              "            );\n",
              "            marker_063bfc36b19eb56db6aa898f94174f77.setIcon(icon_bb6dfad9c27c736a77bc268772f2c30a);\n",
              "        \n",
              "    \n",
              "            var marker_69d35a9d04d44e4a80537de72342debe = L.marker(\n",
              "                [28.56230197, -80.57735648],\n",
              "                {}\n",
              "            ).addTo(marker_cluster_bef584b3a483bc2d299c75f0bc150674);\n",
              "        \n",
              "    \n",
              "            var icon_62449bd2cd5c4c11b5972e00cdd5814f = L.AwesomeMarkers.icon(\n",
              "                {&quot;extraClasses&quot;: &quot;fa-rotate-0&quot;, &quot;icon&quot;: &quot;info-sign&quot;, &quot;iconColor&quot;: &quot;red&quot;, &quot;markerColor&quot;: &quot;white&quot;, &quot;prefix&quot;: &quot;glyphicon&quot;}\n",
              "            );\n",
              "            marker_69d35a9d04d44e4a80537de72342debe.setIcon(icon_62449bd2cd5c4c11b5972e00cdd5814f);\n",
              "        \n",
              "    \n",
              "            var marker_90f72fdaabac4e4e4d006b8aacfe9756 = L.marker(\n",
              "                [28.56230197, -80.57735648],\n",
              "                {}\n",
              "            ).addTo(marker_cluster_bef584b3a483bc2d299c75f0bc150674);\n",
              "        \n",
              "    \n",
              "            var icon_50c7bbdd1bcffccf4775945d592ef608 = L.AwesomeMarkers.icon(\n",
              "                {&quot;extraClasses&quot;: &quot;fa-rotate-0&quot;, &quot;icon&quot;: &quot;info-sign&quot;, &quot;iconColor&quot;: &quot;red&quot;, &quot;markerColor&quot;: &quot;white&quot;, &quot;prefix&quot;: &quot;glyphicon&quot;}\n",
              "            );\n",
              "            marker_90f72fdaabac4e4e4d006b8aacfe9756.setIcon(icon_50c7bbdd1bcffccf4775945d592ef608);\n",
              "        \n",
              "    \n",
              "            var marker_2da4f0e0ad2ac4fc193cbb0458187cda = L.marker(\n",
              "                [28.56230197, -80.57735648],\n",
              "                {}\n",
              "            ).addTo(marker_cluster_bef584b3a483bc2d299c75f0bc150674);\n",
              "        \n",
              "    \n",
              "            var icon_ba7ff5662d72b0ca84d0889010dc6457 = L.AwesomeMarkers.icon(\n",
              "                {&quot;extraClasses&quot;: &quot;fa-rotate-0&quot;, &quot;icon&quot;: &quot;info-sign&quot;, &quot;iconColor&quot;: &quot;red&quot;, &quot;markerColor&quot;: &quot;white&quot;, &quot;prefix&quot;: &quot;glyphicon&quot;}\n",
              "            );\n",
              "            marker_2da4f0e0ad2ac4fc193cbb0458187cda.setIcon(icon_ba7ff5662d72b0ca84d0889010dc6457);\n",
              "        \n",
              "    \n",
              "            var marker_d139cefa68c62848cc874175636c6fcc = L.marker(\n",
              "                [28.56230197, -80.57735648],\n",
              "                {}\n",
              "            ).addTo(marker_cluster_bef584b3a483bc2d299c75f0bc150674);\n",
              "        \n",
              "    \n",
              "            var icon_273af14976fd124c81b4cef4ede263f8 = L.AwesomeMarkers.icon(\n",
              "                {&quot;extraClasses&quot;: &quot;fa-rotate-0&quot;, &quot;icon&quot;: &quot;info-sign&quot;, &quot;iconColor&quot;: &quot;red&quot;, &quot;markerColor&quot;: &quot;white&quot;, &quot;prefix&quot;: &quot;glyphicon&quot;}\n",
              "            );\n",
              "            marker_d139cefa68c62848cc874175636c6fcc.setIcon(icon_273af14976fd124c81b4cef4ede263f8);\n",
              "        \n",
              "    \n",
              "            var marker_516449c845dfc327889412a5c57c77c8 = L.marker(\n",
              "                [28.56230197, -80.57735648],\n",
              "                {}\n",
              "            ).addTo(marker_cluster_bef584b3a483bc2d299c75f0bc150674);\n",
              "        \n",
              "    \n",
              "            var icon_38b726f7d51287e6a3743c99a8d62373 = L.AwesomeMarkers.icon(\n",
              "                {&quot;extraClasses&quot;: &quot;fa-rotate-0&quot;, &quot;icon&quot;: &quot;info-sign&quot;, &quot;iconColor&quot;: &quot;red&quot;, &quot;markerColor&quot;: &quot;white&quot;, &quot;prefix&quot;: &quot;glyphicon&quot;}\n",
              "            );\n",
              "            marker_516449c845dfc327889412a5c57c77c8.setIcon(icon_38b726f7d51287e6a3743c99a8d62373);\n",
              "        \n",
              "    \n",
              "            var marker_8df7ac14038582ca1baac386c3f23f34 = L.marker(\n",
              "                [28.56230197, -80.57735648],\n",
              "                {}\n",
              "            ).addTo(marker_cluster_bef584b3a483bc2d299c75f0bc150674);\n",
              "        \n",
              "    \n",
              "            var icon_5b870777d879b8ada5211ed1fa00b3ce = L.AwesomeMarkers.icon(\n",
              "                {&quot;extraClasses&quot;: &quot;fa-rotate-0&quot;, &quot;icon&quot;: &quot;info-sign&quot;, &quot;iconColor&quot;: &quot;red&quot;, &quot;markerColor&quot;: &quot;white&quot;, &quot;prefix&quot;: &quot;glyphicon&quot;}\n",
              "            );\n",
              "            marker_8df7ac14038582ca1baac386c3f23f34.setIcon(icon_5b870777d879b8ada5211ed1fa00b3ce);\n",
              "        \n",
              "    \n",
              "            var marker_f572a5bdfa24720606387e61fdb4d980 = L.marker(\n",
              "                [28.56230197, -80.57735648],\n",
              "                {}\n",
              "            ).addTo(marker_cluster_bef584b3a483bc2d299c75f0bc150674);\n",
              "        \n",
              "    \n",
              "            var icon_74f147f03d70639d9716be98e910ae67 = L.AwesomeMarkers.icon(\n",
              "                {&quot;extraClasses&quot;: &quot;fa-rotate-0&quot;, &quot;icon&quot;: &quot;info-sign&quot;, &quot;iconColor&quot;: &quot;red&quot;, &quot;markerColor&quot;: &quot;white&quot;, &quot;prefix&quot;: &quot;glyphicon&quot;}\n",
              "            );\n",
              "            marker_f572a5bdfa24720606387e61fdb4d980.setIcon(icon_74f147f03d70639d9716be98e910ae67);\n",
              "        \n",
              "    \n",
              "            var marker_88377ff8af02903a3bbf63e29fba2b0d = L.marker(\n",
              "                [28.56230197, -80.57735648],\n",
              "                {}\n",
              "            ).addTo(marker_cluster_bef584b3a483bc2d299c75f0bc150674);\n",
              "        \n",
              "    \n",
              "            var icon_09d69ae27211477cf6b08d5d8cc96e3a = L.AwesomeMarkers.icon(\n",
              "                {&quot;extraClasses&quot;: &quot;fa-rotate-0&quot;, &quot;icon&quot;: &quot;info-sign&quot;, &quot;iconColor&quot;: &quot;red&quot;, &quot;markerColor&quot;: &quot;white&quot;, &quot;prefix&quot;: &quot;glyphicon&quot;}\n",
              "            );\n",
              "            marker_88377ff8af02903a3bbf63e29fba2b0d.setIcon(icon_09d69ae27211477cf6b08d5d8cc96e3a);\n",
              "        \n",
              "    \n",
              "            var marker_f55f4964aff1f1abb091fbd98cb47271 = L.marker(\n",
              "                [28.56230197, -80.57735648],\n",
              "                {}\n",
              "            ).addTo(marker_cluster_bef584b3a483bc2d299c75f0bc150674);\n",
              "        \n",
              "    \n",
              "            var icon_5a53f64201a1462e8ad26dd48d4c1497 = L.AwesomeMarkers.icon(\n",
              "                {&quot;extraClasses&quot;: &quot;fa-rotate-0&quot;, &quot;icon&quot;: &quot;info-sign&quot;, &quot;iconColor&quot;: &quot;red&quot;, &quot;markerColor&quot;: &quot;white&quot;, &quot;prefix&quot;: &quot;glyphicon&quot;}\n",
              "            );\n",
              "            marker_f55f4964aff1f1abb091fbd98cb47271.setIcon(icon_5a53f64201a1462e8ad26dd48d4c1497);\n",
              "        \n",
              "&lt;/script&gt;\n",
              "&lt;/html&gt;\" style=\"position:absolute;width:100%;height:100%;left:0;top:0;border:none !important;\" allowfullscreen webkitallowfullscreen mozallowfullscreen></iframe></div></div>"
            ]
          },
          "metadata": {},
          "execution_count": 43
        }
      ],
      "source": [
        "#Inserta tu código aquí\n",
        "coordinate_sp = spacex_df[['Lat', 'Long']].values\n",
        "coordinate_sp = coordinate_sp.tolist()\n",
        "spacex_df['Coordinate'] = coordinate_sp\n",
        "\n",
        "site_map.add_child(marker_cluster)\n",
        "\n",
        "indice = 0\n",
        "for row in spacex_df:\n",
        "    marker = folium.Marker(spacex_df['Coordinate'].iloc[indice], icon=folium.Icon(color='white', icon_color=spacex_df['marker_color'].iloc[indice]))\n",
        "    marker_cluster.add_child(marker)\n",
        "    indice += 1\n",
        "site_map"
      ]
    },
    {
      "cell_type": "markdown",
      "metadata": {
        "id": "enx7Ef2AQRAJ"
      },
      "source": [
        "Su mapa actualizado debería parecerse a las siguientes capturas de pantalla:\n"
      ]
    },
    {
      "cell_type": "markdown",
      "metadata": {
        "id": "yhU7okRWQRAJ"
      },
      "source": [
        "<center>\n",
        "    <img src=\"https://cf-courses-data.s3.us.cloud-object-storage.appdomain.cloud/IBM-DS0321EN-SkillsNetwork/labs/module_3/images/launch_site_marker_cluster.png\" />\n",
        "</center>\n"
      ]
    },
    {
      "cell_type": "markdown",
      "metadata": {
        "id": "pbqKyIetQRAJ"
      },
      "source": [
        "<center>\n",
        "    <img src=\"https://cf-courses-data.s3.us.cloud-object-storage.appdomain.cloud/IBM-DS0321EN-SkillsNetwork/labs/module_3/images/launch_site_marker_cluster_zoomed.png\" />\n",
        "</center>\n"
      ]
    },
    {
      "cell_type": "markdown",
      "metadata": {
        "id": "KHboBNYkQRAK"
      },
      "source": [
        "A partir de los marcadores etiquetados con colores en los grupos de marcadores, debería ser capaz de identificar fácilmente qué sitios de lanzamiento tienen tasas de éxito relativamente altas.\n"
      ]
    },
    {
      "cell_type": "markdown",
      "metadata": {
        "id": "whUSrofYQRAK"
      },
      "source": [
        "# TAREA 3: Calcular las distancias entre un lugar de lanzamiento y sus proximidades\n"
      ]
    },
    {
      "cell_type": "markdown",
      "metadata": {
        "id": "mINdUN69QRAK"
      },
      "source": [
        "A continuación, tenemos que explorar y analizar las proximidades de los lugares de lanzamiento.\n"
      ]
    },
    {
      "cell_type": "markdown",
      "metadata": {
        "id": "MqiCsaWqQRAK"
      },
      "source": [
        "Primero vamos a añadir un MousePosition en el mapa para obtener las coordenadas de un ratón sobre un punto del mapa. Así, mientras exploras el mapa, puedes encontrar fácilmente las coordenadas de cualquier punto de interés (como el ferrocarril)"
      ]
    },
    {
      "cell_type": "code",
      "execution_count": null,
      "metadata": {
        "id": "33nm2hYyQRAK"
      },
      "outputs": [],
      "source": [
        "formatter = \"function(num) {return L.Util.formatNum(num, 5);};\"\n",
        "mouse_position = MousePosition(\n",
        "    position='topright',\n",
        "    separator=' Long: ',\n",
        "    empty_string='NaN',\n",
        "    lng_first=False,\n",
        "    num_digits=20,\n",
        "    prefix='Lat:',\n",
        "    lat_formatter=formatter,\n",
        "    lng_formatter=formatter,\n",
        ")\n",
        "\n",
        "site_map.add_child(mouse_position)\n",
        "site_map"
      ]
    },
    {
      "cell_type": "markdown",
      "metadata": {
        "id": "fs-mG5XbQRAL"
      },
      "source": [
        "Ahora acerque el zoom a un lugar de lanzamiento y explore su proximidad para ver si puede encontrar fácilmente alguna vía férrea, carretera, costa, etc. Mueve el ratón hacia estos puntos y marca sus coordenadas (mostradas en la parte superior derecha) para conocer la distancia al lugar de lanzamiento.\n"
      ]
    },
    {
      "cell_type": "markdown",
      "metadata": {
        "id": "B_QUDbe5QRAL"
      },
      "source": [
        "Puedes calcular la distancia entre dos puntos del mapa a partir de sus valores `Lat` y `Long` utilizando el siguiente método:\n"
      ]
    },
    {
      "cell_type": "code",
      "execution_count": null,
      "metadata": {
        "id": "Dv6XRAQkQRAL"
      },
      "outputs": [],
      "source": [
        "from math import sin, cos, sqrt, atan2, radians\n",
        "\n",
        "def calculate_distance(lat1, lon1, lat2, lon2):\n",
        "    # Radio de la tierra en km\n",
        "    R = 6373.0\n",
        "\n",
        "    lat1 = radians(lat1)\n",
        "    lon1 = radians(lon1)\n",
        "    lat2 = radians(lat2)\n",
        "    lon2 = radians(lon2)\n",
        "\n",
        "    dlon = lon2 - lon1\n",
        "    dlat = lat2 - lat1\n",
        "\n",
        "    a = sin(dlat / 2)**2 + cos(lat1) * cos(lat2) * sin(dlon / 2)**2\n",
        "    c = 2 * atan2(sqrt(a), sqrt(1 - a))\n",
        "\n",
        "    distance = R * c\n",
        "    return distance"
      ]
    },
    {
      "cell_type": "markdown",
      "metadata": {
        "id": "PJnI1C95QRAL"
      },
      "source": [
        "Seleccióna un punto en la línea de costa más cercana utilizando MousePosition para averiguar sus coordenadas. Calcula la distancia entre el punto de la línea de costa y el lugar de lanzamiento.\n"
      ]
    },
    {
      "cell_type": "code",
      "execution_count": null,
      "metadata": {
        "id": "knc-cpAyQRAL"
      },
      "outputs": [],
      "source": [
        "# Calcula la distancia a la coordenada de la costa más cercana\n",
        "# e.g.,: Lat: 28.56367  Lon: -80.57163\n",
        "distance_coastline = calculate_distance(coordinates[0][0], coordinates[0][1], coordinates[1][0], coordinates[1][1])"
      ]
    },
    {
      "cell_type": "markdown",
      "source": [
        "Para mostrar la linea que une los puntos utilizaremos el siguiente código:"
      ],
      "metadata": {
        "id": "K7fPc_J82KLd"
      }
    },
    {
      "cell_type": "code",
      "source": [
        "# Crear un objeto `folium.PolyLine` utilizando las coordenadas de la línea de costa y la coordenada del lugar de lanzamiento\n",
        "lines=folium.PolyLine(locations=coordinates, weight=1)\n",
        "site_map.add_child(lines)"
      ],
      "metadata": {
        "id": "5x5pZoDw2LNo"
      },
      "execution_count": null,
      "outputs": []
    },
    {
      "cell_type": "markdown",
      "metadata": {
        "id": "TwP7_79kQRAM"
      },
      "source": [
        "Después de obtener su coordenada, crea un `folium.Marker` para mostrar la distancia\n"
      ]
    },
    {
      "cell_type": "code",
      "execution_count": null,
      "metadata": {
        "id": "apsCUaZFQRAM"
      },
      "outputs": [],
      "source": [
        "# Crear y añadir un folio.Marcador en el punto de costa más cercano seleccionado en el mapa\n",
        "# Muestra la distancia entre el punto de la línea de costa y el lugar de lanzamiento utilizando la propiedad del icono \n",
        "\n",
        "distance_marker = folium.Marker(\n",
        "   [coordinate],\n",
        "   icon=DivIcon(\n",
        "       icon_size=(20,20),\n",
        "       icon_anchor=(0,0),\n",
        "       html='<div style=\"font-size: 12; color:#d35400;\"><b>%s</b></div>' % \"{:10.2f} KM\".format(distance),\n",
        "       )\n",
        "   )"
      ]
    },
    {
      "cell_type": "code",
      "execution_count": null,
      "metadata": {
        "id": "wnHIRUigQRAM"
      },
      "outputs": [],
      "source": [
        "#Inserta tu código aquí\n",
        "coordinates = [\n",
        "    [28.56342, -80.57674],\n",
        "    [28.56342, -80.56756]]\n",
        "\n",
        "lines=folium.PolyLine(locations=coordinates, weight=1)\n",
        "site_map.add_child(lines)\n",
        "distance = calculate_distance(coordinates[0][0], coordinates[0][1], coordinates[1][0], coordinates[1][1])\n",
        "distance_circle = \n",
        "site_map.add_child(distance_circle)\n",
        "site_map"
      ]
    },
    {
      "cell_type": "markdown",
      "metadata": {
        "id": "WJ_kRvgjQRAN"
      },
      "source": [
        "El mapa actualizado con la línea de distancia debería verse como la siguiente captura de pantalla:\n"
      ]
    },
    {
      "cell_type": "markdown",
      "metadata": {
        "id": "4UqNL3DOQRAO"
      },
      "source": [
        "<center>\n",
        "    <img src=\"https://cf-courses-data.s3.us.cloud-object-storage.appdomain.cloud/IBM-DS0321EN-SkillsNetwork/labs/module_3/images/launch_site_marker_distance.png\" />\n",
        "</center>\n"
      ]
    },
    {
      "cell_type": "markdown",
      "metadata": {
        "id": "XyxjmOQ0QRAO"
      },
      "source": [
        " Del mismo modo, puede dibujar una línea entre un lugar de lanzamiento y su ciudad, ferrocarril, carretera, etc. más cercanos. Para ello, es necesario utilizar `MousePosition` para encontrar sus coordenadas en el mapa\n"
      ]
    },
    {
      "cell_type": "markdown",
      "metadata": {
        "id": "0sQ8CiSDQRAO"
      },
      "source": [
        "El símbolo de una linea ferrofiaría puede tener este aspecto:\n"
      ]
    },
    {
      "cell_type": "markdown",
      "metadata": {
        "id": "rvBnodHHQRAO"
      },
      "source": [
        "<center>\n",
        "    <img src=\"https://cf-courses-data.s3.us.cloud-object-storage.appdomain.cloud/IBM-DS0321EN-SkillsNetwork/labs/module_3/images/railway.png\" />\n",
        "</center>\n"
      ]
    },
    {
      "cell_type": "markdown",
      "metadata": {
        "id": "-kfylDBuQRAO"
      },
      "source": [
        "Un símbolo de carretera puede tener este aspecto:\n"
      ]
    },
    {
      "cell_type": "markdown",
      "metadata": {
        "id": "RH_roP77QRAP"
      },
      "source": [
        "<center>\n",
        "    <img src=\"https://cf-courses-data.s3.us.cloud-object-storage.appdomain.cloud/IBM-DS0321EN-SkillsNetwork/labs/module_3/images/highway.png\" />\n",
        "</center>\n"
      ]
    },
    {
      "cell_type": "markdown",
      "metadata": {
        "id": "Q8vd2ozUQRAP"
      },
      "source": [
        "Una ciudad puede tener este aspecto:\n"
      ]
    },
    {
      "cell_type": "markdown",
      "metadata": {
        "id": "dmE-nxFSQRAP"
      },
      "source": [
        "<center>\n",
        "    <img src=\"https://cf-courses-data.s3.us.cloud-object-storage.appdomain.cloud/IBM-DS0321EN-SkillsNetwork/labs/module_3/images/city.png\" />\n",
        "</center>\n"
      ]
    },
    {
      "cell_type": "markdown",
      "source": [
        "Crea dos mapas que muestren la distancia hasta una interesección en la autopista y otro hasta una ciudad."
      ],
      "metadata": {
        "id": "lcL2AAG_2ycU"
      }
    },
    {
      "cell_type": "code",
      "execution_count": null,
      "metadata": {
        "id": "7e7DKsAZQRAP"
      },
      "outputs": [],
      "source": [
        "#Inserta tu código aquí\n"
      ]
    },
    {
      "cell_type": "code",
      "execution_count": null,
      "metadata": {
        "id": "Uq8nvux7QRAM"
      },
      "outputs": [],
      "source": [
        "\n",
        "#Distancia a una intersección con ferrocarril\n",
        "coordinates = [\n",
        "    [28.56342, -80.57674],\n",
        "    [28.411780, -80.820630]]\n",
        "\n",
        "lines=folium.PolyLine(locations=coordinates, weight=1)\n",
        "site_map.add_child(lines)\n",
        "distance = calculate_distance(coordinates[0][0], coordinates[0][1], coordinates[1][0], coordinates[1][1])\n",
        "distance_circle = folium.Marker(\n",
        "    [28.411780, -80.820630],\n",
        "    icon=DivIcon(\n",
        "        icon_size=(20,20),\n",
        "        icon_anchor=(0,0),\n",
        "        html='<div style=\"font-size: 12; color:#252526;\"><b>%s</b></div>' % \"{:10.2f} KM\".format(distance),\n",
        "        )\n",
        "    )\n",
        "site_map.add_child(distance_circle)\n",
        "site_map"
      ]
    },
    {
      "cell_type": "code",
      "execution_count": null,
      "metadata": {
        "id": "fQkvWkJ-QRAP"
      },
      "outputs": [],
      "source": [
        "#Distancia a la ciudad de Orlando\n",
        "\n",
        "coordinates = [\n",
        "    [28.56342, -80.57674],\n",
        "    [28.5383, -81.3792]]\n",
        "\n",
        "lines=folium.PolyLine(locations=coordinates, weight=1)\n",
        "site_map.add_child(lines)\n",
        "distance = calculate_distance(coordinates[0][0], coordinates[0][1], coordinates[1][0], coordinates[1][1])\n",
        "distance_circle = folium.Marker(\n",
        "    [28.5383, -81.3792],\n",
        "    icon=DivIcon(\n",
        "        icon_size=(20,20),\n",
        "        icon_anchor=(0,0),\n",
        "        html='<div style=\"font-size: 12; color:#252526;\"><b>%s</b></div>' % \"{:10.2f} KM\".format(distance),\n",
        "        )\n",
        "    )\n",
        "site_map.add_child(distance_circle)\n",
        "site_map"
      ]
    },
    {
      "cell_type": "markdown",
      "metadata": {
        "id": "rpvDOifgQRAQ"
      },
      "source": [
        "Después de trazar las líneas de distancia a las proximidades, podrá responder fácilmente a las siguientes preguntas:\n",
        "\n",
        "* ¿Los lugares de lanzamiento están cerca de las vías férreas? \n",
        "* ¿Están las zonas de lanzamiento cerca de las autopistas? \n",
        "* ¿Están las zonas de lanzamiento cerca de la costa? \n",
        "* ¿Los lugares de lanzamiento se mantienen a cierta distancia de las ciudades? \n",
        "\n",
        "Intenta también explicar sus conclusiones.\n"
      ]
    }
  ],
  "metadata": {
    "kernelspec": {
      "display_name": "Python 3.9.8 64-bit ('ibmierda')",
      "language": "python",
      "name": "python3"
    },
    "language_info": {
      "codemirror_mode": {
        "name": "ipython",
        "version": 3
      },
      "file_extension": ".py",
      "mimetype": "text/x-python",
      "name": "python",
      "nbconvert_exporter": "python",
      "pygments_lexer": "ipython3",
      "version": "3.9.8"
    },
    "papermill": {
      "duration": 142.196942,
      "end_time": "2020-09-19T06:29:13.341578",
      "environment_variables": {},
      "exception": null,
      "input_path": "__notebook__.ipynb",
      "output_path": "__notebook__.ipynb",
      "parameters": {},
      "start_time": "2020-09-19T06:26:51.144636",
      "version": "2.1.0"
    },
    "vscode": {
      "interpreter": {
        "hash": "06669450a20e2437c01e88e64dc68c8dfa788e15199dfc60591c3e13974a3c24"
      }
    },
    "colab": {
      "provenance": []
    }
  },
  "nbformat": 4,
  "nbformat_minor": 0
}