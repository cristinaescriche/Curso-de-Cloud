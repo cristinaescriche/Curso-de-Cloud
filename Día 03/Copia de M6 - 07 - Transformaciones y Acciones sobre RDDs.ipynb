{
  "cells": [
    {
      "cell_type": "markdown",
      "metadata": {
        "id": "2C0gHZxhzQO4"
      },
      "source": [
        "# RDDs + Programación Funcional"
      ]
    },
    {
      "cell_type": "markdown",
      "metadata": {
        "id": "LVfG6M1yzQO8"
      },
      "source": [
        "# Creamos un contexo para crear RDDs"
      ]
    },
    {
      "cell_type": "code",
      "execution_count": null,
      "metadata": {
        "id": "YnfCdJB5zQO9",
        "colab": {
          "base_uri": "https://localhost:8080/"
        },
        "outputId": "467cd36c-f9f6-40f6-ef34-1cfc4b6d4365"
      },
      "outputs": [
        {
          "output_type": "stream",
          "name": "stdout",
          "text": [
            "\u001b[2K     \u001b[90m━━━━━━━━━━━━━━━━━━━━━━━━━━━━━━━━━━━━━━━\u001b[0m \u001b[32m281.4/281.4 MB\u001b[0m \u001b[31m3.9 MB/s\u001b[0m eta \u001b[36m0:00:00\u001b[0m\n",
            "\u001b[?25h  Preparing metadata (setup.py) ... \u001b[?25l\u001b[?25hdone\n",
            "\u001b[2K     \u001b[90m━━━━━━━━━━━━━━━━━━━━━━━━━━━━━━━━━━━━━━\u001b[0m \u001b[32m199.7/199.7 kB\u001b[0m \u001b[31m19.0 MB/s\u001b[0m eta \u001b[36m0:00:00\u001b[0m\n",
            "\u001b[?25h  Building wheel for pyspark (setup.py) ... \u001b[?25l\u001b[?25hdone\n"
          ]
        }
      ],
      "source": [
        "import pandas as pd\n",
        "!pip install pyspark --quiet\n",
        "from pyspark import SparkContext\n",
        "sc = SparkContext(master = \"local\", appName = \"Transformaciones sobre un RDD\") "
      ]
    },
    {
      "cell_type": "code",
      "execution_count": null,
      "metadata": {
        "colab": {
          "base_uri": "https://localhost:8080/"
        },
        "id": "3RCfAm8y7P9d",
        "outputId": "238dad9f-537c-4a7a-d234-b770f1ce85b9"
      },
      "outputs": [
        {
          "output_type": "stream",
          "name": "stdout",
          "text": [
            "Mounted at /content/drive\n"
          ]
        }
      ],
      "source": [
        "from google.colab import drive\n",
        "drive.mount('/content/drive')"
      ]
    },
    {
      "cell_type": "markdown",
      "metadata": {
        "id": "38_UH5CfzQO_"
      },
      "source": [
        "# Cargamos un RDDs\n",
        "\n",
        "Para la realzación del ejercicio, con ayuda del archivo paises, realizaremos el equivalente de operaciones 'select','count','group by' y 'filter / where'\n",
        "\n",
        "Cambia el valor de la ruta para que apunte a la ruta donde tienes los datos"
      ]
    },
    {
      "cell_type": "code",
      "execution_count": null,
      "metadata": {
        "colab": {
          "base_uri": "https://localhost:8080/"
        },
        "id": "T-Mj3LYEzQO_",
        "outputId": "ae4c9a58-148d-4952-9dba-21b5e95da014"
      },
      "outputs": [
        {
          "output_type": "stream",
          "name": "stdout",
          "text": [
            "Drive already mounted at /content/drive/; to attempt to forcibly remount, call drive.mount(\"/content/drive/\", force_remount=True).\n"
          ]
        }
      ],
      "source": [
        "from google.colab import drive\n",
        "drive.mount('/content/drive/')\n",
        "#LEER CSV\n",
        "equiposOlimpicosRDD = sc.textFile(\"/content/drive/MyDrive/Colab Notebooks/CSV/paises.csv\").map(lambda line : line.split(\",\"))"
      ]
    },
    {
      "cell_type": "code",
      "execution_count": null,
      "metadata": {
        "colab": {
          "base_uri": "https://localhost:8080/"
        },
        "id": "a91H4XHUzQPA",
        "outputId": "9d0bdbdb-530e-4dfd-cce3-32a72d62b0a6"
      },
      "outputs": [
        {
          "output_type": "execute_result",
          "data": {
            "text/plain": [
              "[['id', 'equipo', 'sigla'],\n",
              " ['1', '30. Februar', 'AUT'],\n",
              " ['2', 'A North American Team', 'MEX'],\n",
              " ['3', 'Acipactli', 'MEX'],\n",
              " ['4', 'Acturus', 'ARG'],\n",
              " ['5', 'Afghanistan', 'AFG'],\n",
              " ['6', 'Akatonbo', 'IRL'],\n",
              " ['7', 'Alain IV', 'SUI'],\n",
              " ['8', 'Albania', 'ALB'],\n",
              " ['9', 'Alcaid', 'POR']]"
            ]
          },
          "metadata": {},
          "execution_count": 4
        }
      ],
      "source": [
        "equiposOlimpicosRDD.take(10)"
      ]
    },
    {
      "cell_type": "markdown",
      "metadata": {
        "id": "mjPeYZk8DDjf"
      },
      "source": [
        "### Deshacemos un RDD\n",
        "\n",
        "Con ayuda del método `collect()`, permite desparalelizar un RDD. \n"
      ]
    },
    {
      "cell_type": "code",
      "execution_count": null,
      "metadata": {
        "id": "jzY0aDY2Daz5"
      },
      "outputs": [],
      "source": [
        "equiposOlimpicosRDD.collect()"
      ]
    },
    {
      "cell_type": "markdown",
      "metadata": {
        "id": "SAGUptZuDcx_"
      },
      "source": [
        "Creamos un dataframe a partir de un RDD mediante `pd.DataFrame()` "
      ]
    },
    {
      "cell_type": "code",
      "execution_count": null,
      "metadata": {
        "id": "Mio-IxZn1Qn5"
      },
      "outputs": [],
      "source": [
        "dataframe = pd.DataFrame(equiposOlimpicosRDD.collect()[1:], columns = equiposOlimpicosRDD.collect()[0] )"
      ]
    },
    {
      "cell_type": "markdown",
      "metadata": {
        "id": "rYVavORU3Yx7"
      },
      "source": [
        "# Operaciones sobre un RDDs\n",
        "\n",
        "Para la realzación del ejercicio, con ayuda del archivo paises, realizaremos el equivalente de operaciones `select`,`count`,`group by` , `filter` y `where`"
      ]
    },
    {
      "cell_type": "markdown",
      "metadata": {
        "id": "rHZH2AR_D1t_"
      },
      "source": [
        "### Ejercicio 1: \n",
        "**Mostrar los países sin repetidos**\n",
        "\n",
        "*   Seleccionar la columna de las siglas PISTA: Usa un map y quedate con la columna con indice 2.\n",
        "*   Usamos el `distinct()`\n",
        "\n"
      ]
    },
    {
      "cell_type": "code",
      "execution_count": null,
      "metadata": {
        "id": "YCrbVMte0Nzy"
      },
      "outputs": [],
      "source": [
        "#Inserta aquí tu código\n",
        "columna_siglas = equiposOlimpicosRDD.map(lambda columna : columna[2])\n",
        "unicos = columna_siglas.distinct()\n",
        "unicos.collect()\n",
        "\n",
        "#siglas = dataframe[\"sigla\"].values.tolist()\n",
        "#siglas_unicas = sc.parallelize(siglas)\n",
        "#unicos = siglas_unicas.distinct()\n",
        "#unicos.collect()"
      ]
    },
    {
      "cell_type": "markdown",
      "metadata": {
        "id": "wddQm8GvzQPA"
      },
      "source": [
        "### Ejercicio 2\n",
        "**Contar la cantidad de siglas diferentes de los equipos olímpicos existentes**\n",
        "\n",
        "PISTA: Puedes usar `count()`"
      ]
    },
    {
      "cell_type": "code",
      "execution_count": null,
      "metadata": {
        "colab": {
          "base_uri": "https://localhost:8080/"
        },
        "id": "r37ow1TTzQPB",
        "outputId": "1c51741e-518b-4e17-a430-37d27db4cb50"
      },
      "outputs": [
        {
          "output_type": "execute_result",
          "data": {
            "text/plain": [
              "231"
            ]
          },
          "metadata": {},
          "execution_count": 52
        }
      ],
      "source": [
        "#Inserta aquí tu código\n",
        "unicos.count()"
      ]
    },
    {
      "cell_type": "markdown",
      "metadata": {
        "id": "NdBMwHo6zQPB"
      },
      "source": [
        "### Ejercicio 3 (Díficil, puedes hacerlo el último)\n",
        "**Agrupamos datos para poder determinar cuantos equipos posee un pais**\n",
        "\n",
        "Recuerda que los RDDs poseen una estructura de `clave-valor`, por lo cual debemos poner primero el valor 'clave' (la sigla del país).\n",
        "\n",
        "Con 'mapValues', al componente 'valor' le indicamos que operación deseamos que se le aplique.\n",
        "\n",
        "**Objetivo 1**: Tener un diccionario con `clave` la sigla del país y `valor` la lista de equipos de ese país\n",
        "\n",
        "Con `groupByKey` podemos agrupar por `clave`, en este caso por sigla del país  "
      ]
    },
    {
      "cell_type": "code",
      "execution_count": null,
      "metadata": {
        "id": "vxUqbKmyzQPC"
      },
      "outputs": [],
      "source": [
        "#Inserta aquí tu código\n",
        "def columnas (data):\n",
        "  return (data[2], data[1])\n",
        "\n",
        "equiposOlimpicosRDD.map(columnas).groupByKey().mapValues(list).collect()"
      ]
    },
    {
      "cell_type": "markdown",
      "metadata": {
        "id": "onaaHz_m7zsz"
      },
      "source": [
        "**Objetivo 2**: Tener un diccionario con `clave` la sigla del país y `valor` la cantidad de equipos de ese país"
      ]
    },
    {
      "cell_type": "code",
      "execution_count": null,
      "metadata": {
        "id": "_4Ww2IdIzQPC"
      },
      "outputs": [],
      "source": [
        "#Inserta aquí tu código\n",
        "equiposOlimpicosRDD.map(columnas).groupByKey().mapValues(len).collect()\n"
      ]
    },
    {
      "cell_type": "markdown",
      "metadata": {
        "id": "yjdW-6BZzQPC"
      },
      "source": [
        "### Operación filter para obtener un subconjunto\n",
        "\n",
        "Con el método 'filter', reducimos el conjuntos de equipos.\n",
        "\n",
        "Nos quedamos con la sigla equivalente de argentina"
      ]
    },
    {
      "cell_type": "code",
      "execution_count": null,
      "metadata": {
        "colab": {
          "base_uri": "https://localhost:8080/"
        },
        "id": "KEQtaJwazQPC",
        "outputId": "78f7ad81-81e0-4658-85ff-1d75160db65a"
      },
      "outputs": [
        {
          "output_type": "execute_result",
          "data": {
            "text/plain": [
              "[['4', 'Acturus', 'ARG'],\n",
              " ['37', 'Antares', 'ARG'],\n",
              " ['42', 'Arcturus', 'ARG'],\n",
              " ['43', 'Ardilla', 'ARG'],\n",
              " ['45', 'Argentina', 'ARG'],\n",
              " ['46', 'Argentina-1', 'ARG'],\n",
              " ['47', 'Argentina-2', 'ARG'],\n",
              " ['119', 'Blue Red', 'ARG'],\n",
              " ['238', 'Covunco III', 'ARG'],\n",
              " ['252', 'Cupidon III', 'ARG'],\n",
              " ['288', 'Djinn', 'ARG'],\n",
              " ['436', 'Gullvinge', 'ARG'],\n",
              " ['644', 'Matrero II', 'ARG'],\n",
              " ['672', 'Mizar', 'ARG'],\n",
              " ['774', 'Pampero', 'ARG'],\n",
              " ['843', 'Rampage', 'ARG'],\n",
              " ['1031', 'Tango', 'ARG'],\n",
              " ['1162', 'Wiking', 'ARG']]"
            ]
          },
          "metadata": {},
          "execution_count": 10
        }
      ],
      "source": [
        "equiposArgentinos = equiposOlimpicosRDD.filter(lambda l : \"ARG\" in l)\n",
        "equiposArgentinos.collect()  "
      ]
    },
    {
      "cell_type": "markdown",
      "metadata": {
        "id": "yTKWJ6uuzQPD"
      },
      "source": [
        "# Accciones sobre RDDs"
      ]
    },
    {
      "cell_type": "code",
      "execution_count": null,
      "metadata": {
        "id": "9oMfLYCFzQPD"
      },
      "outputs": [],
      "source": [
        "deportistaOlimpicoRDD = sc.textFile(\"/content/drive/MyDrive/Colab Notebooks/CSV/deportista.csv\").map(lambda line : line.split(\",\"))\n",
        "deportistaOlimpico2RDD = sc.textFile(\"/content/drive/MyDrive/Colab Notebooks/CSV/deportista2.csv\").map(lambda line : line.split(\",\"))"
      ]
    },
    {
      "cell_type": "code",
      "execution_count": null,
      "metadata": {
        "id": "6b4nfMdPzQPD"
      },
      "outputs": [],
      "source": [
        "deportistaOlimpicoRDD = deportistaOlimpicoRDD.union(deportistaOlimpico2RDD)"
      ]
    },
    {
      "cell_type": "markdown",
      "metadata": {
        "id": "wusBWOhIzQPD"
      },
      "source": [
        "### Formas de visualizar datos de un RDDs\n",
        "\n",
        "La operación 'take' nos devuelve 'N' valores que encuentre spark.\n",
        "\n",
        "La operación 'top', previo ordena respecto al valor llave y nos devuelve 'N' valores.\n",
        "\n",
        "La operacion 'takeSample', nos devuelve una muestra aleatoria de los valores, Observa que recibe tres parametros\n",
        "\n",
        "| Orden | Argumento | Descripción | Valor\n",
        "|-------|--------|-----|--------|\n",
        "|1|withReplacement|Indica si la muetra podrá traer replicados|Bool|\n",
        "|2| num| Cantidad de valores a retornar|int|\n",
        "|3|seed|semilla para el generador aleatorio|int|"
      ]
    },
    {
      "cell_type": "markdown",
      "metadata": {
        "id": "HIL2jSanzQPD"
      },
      "source": [
        "Nota: Si encuentras complicado leer el código en los segmentos donde usamos indices en las listas, ejecutalo por partes para que visualizes que componentes seleccionamos \n",
        "\n",
        "Nota: Para hacer join con RDDs, debemos tener selecionada la llave al inicio del RDD para poder realizar el cruce."
      ]
    },
    {
      "cell_type": "code",
      "execution_count": null,
      "metadata": {
        "colab": {
          "base_uri": "https://localhost:8080/"
        },
        "id": "dujFUIR-zQPE",
        "outputId": "0b975cc2-5737-4cbe-c01d-51e356a878cf"
      },
      "outputs": [
        {
          "output_type": "execute_result",
          "data": {
            "text/plain": [
              "[('199', (['1', 'A Dijiang', '1', '24', '180', '80'], 'CHN')),\n",
              " ('199', (['2', 'A Lamusi', '1', '23', '170', '60'], 'CHN')),\n",
              " ('199', (['602', 'Abudoureheman', '1', '22', '182', '75'], 'CHN')),\n",
              " ('199', (['1463', 'Ai Linuer', '1', '25', '160', '62'], 'CHN')),\n",
              " ('199', (['1464', 'Ai Yanhan', '2', '14', '168', '54'], 'CHN')),\n",
              " ('199', (['3605', 'An Weijiang', '1', '22', '178', '72'], 'CHN'))]"
            ]
          },
          "metadata": {},
          "execution_count": 13
        }
      ],
      "source": [
        "deportistaOlimpicoRDD.map(lambda x :[x[-1], x[:-1]]).join(equiposOlimpicosRDD \\\n",
        "                        .map(lambda x : [x[0],x[2]])).take(6)"
      ]
    },
    {
      "cell_type": "code",
      "execution_count": null,
      "metadata": {
        "colab": {
          "base_uri": "https://localhost:8080/"
        },
        "id": "egEvLY1kzQPE",
        "outputId": "fc10cba0-f8ce-46f0-fa3e-ea3b7890daa7"
      },
      "outputs": [
        {
          "output_type": "execute_result",
          "data": {
            "text/plain": [
              "[('999', (['92679', 'Trygve Bjarne Pedersen', '1', '35', '0', '0'], 'NOR')),\n",
              " ('999', (['1144', 'Henrik Agersborg', '1', '47', '0', '0'], 'NOR')),\n",
              " ('999', (['10765', 'Einar Berntsen', '1', '28', '0', '0'], 'NOR')),\n",
              " ('998',\n",
              "  (['111659', 'G. Bernard Bernie Skinner', '1', '34', '182', '82'], 'CAN')),\n",
              " ('996', (['116030', 'Edward Eddy Stutterheim', '1', '39', '0', '0'], 'NED'))]"
            ]
          },
          "metadata": {},
          "execution_count": 14
        }
      ],
      "source": [
        "deportistaOlimpicoRDD.map(lambda x :[x[-1], x[:-1]]).join(equiposOlimpicosRDD \\\n",
        "                        .map(lambda x : [x[0],x[2]])).top(5)"
      ]
    },
    {
      "cell_type": "code",
      "execution_count": null,
      "metadata": {
        "colab": {
          "base_uri": "https://localhost:8080/"
        },
        "id": "oKfW9T8QzQPE",
        "outputId": "e050f202-9aba-4f96-9afa-6e84d8b1d7d4"
      },
      "outputs": [
        {
          "output_type": "execute_result",
          "data": {
            "text/plain": [
              "[('93',\n",
              "  (['76502', 'Yelena Viktorovna Matoshko', '2', '30', '177', '80'], 'BLR')),\n",
              " ('487', (['110997', 'Ajit Singh', '1', '23', '185', '73'], 'IND')),\n",
              " ('249',\n",
              "  (['41654', 'Toms Pedro Gonzlez Barrios', '1', '21', '178', '75'], 'CUB')),\n",
              " ('259', (['7157', 'Jlius Bal', '1', '22', '0', '0'], 'TCH'))]"
            ]
          },
          "metadata": {},
          "execution_count": 15
        }
      ],
      "source": [
        "deportistaOlimpicoRDD.map(lambda x :[x[-1], x[:-1]]).join(equiposOlimpicosRDD \\\n",
        "                        .map(lambda x : [x[0],x[2]])).takeSample(False,4,10)"
      ]
    },
    {
      "cell_type": "markdown",
      "metadata": {
        "id": "s1p9GbMXRKUh"
      },
      "source": [
        "### Ejercicio 4\n",
        "**Muestra 17 filas del RDD deportistaOlimpicoRDD**\n"
      ]
    },
    {
      "cell_type": "code",
      "execution_count": null,
      "metadata": {
        "id": "YGBkAiRSRKUi"
      },
      "outputs": [],
      "source": [
        "#Inserta aquí tu código\n",
        "deportistaOlimpicoRDD.take(18)\n"
      ]
    },
    {
      "cell_type": "markdown",
      "metadata": {
        "id": "wKd3eGMmzQPE"
      },
      "source": [
        "## Importancia de countAprox"
      ]
    },
    {
      "cell_type": "markdown",
      "metadata": {
        "id": "olmQehcQzQPF"
      },
      "source": [
        "Debido a la cantidad de datos no siempre es recomendable hacer operaciones tipo count.\n",
        "\n",
        "Por lo que 'countAprox' es la solución mas viable cuando solo queremos darnos una idea de cuantos datos podemos leer durante un tiempo determinado. Nota: el parametro está en milisegundos"
      ]
    },
    {
      "cell_type": "code",
      "execution_count": null,
      "metadata": {
        "colab": {
          "base_uri": "https://localhost:8080/"
        },
        "id": "ghA17-KfzQPF",
        "outputId": "91a6bd22-ac61-410f-c07e-50a1099ac08b"
      },
      "outputs": [
        {
          "output_type": "execute_result",
          "data": {
            "text/plain": [
              "135427"
            ]
          },
          "metadata": {},
          "execution_count": 18
        }
      ],
      "source": [
        "deportistaOlimpicoRDD.map(lambda x :[x[-1], x[:-1]]).join(equiposOlimpicosRDD \\\n",
        "                            .map(lambda x : [x[0],x[2]])).count()"
      ]
    },
    {
      "cell_type": "code",
      "execution_count": null,
      "metadata": {
        "colab": {
          "base_uri": "https://localhost:8080/"
        },
        "id": "ntbJX0mmzQPF",
        "outputId": "85afb1f5-fe6d-42c7-9a23-7459bcd3ec8f"
      },
      "outputs": [
        {
          "output_type": "execute_result",
          "data": {
            "text/plain": [
              "135427"
            ]
          },
          "metadata": {},
          "execution_count": 19
        }
      ],
      "source": [
        "deportistaOlimpicoRDD.map(lambda x :[x[-1], x[:-1]]).join(equiposOlimpicosRDD \\\n",
        "                        .map(lambda x : [x[0],x[2]])).countApprox(20)"
      ]
    },
    {
      "cell_type": "markdown",
      "metadata": {
        "id": "qxyaA7XrzQPF"
      },
      "source": [
        "# Acciones de modificacion"
      ]
    },
    {
      "cell_type": "markdown",
      "metadata": {
        "id": "QzWHfn79zQPF"
      },
      "source": [
        "### Obtenemos el equipo y el deportista\n",
        "\n",
        "Guardamos el RDD resultante en equipoDeportista"
      ]
    },
    {
      "cell_type": "code",
      "execution_count": null,
      "metadata": {
        "id": "cuv7lqaSzQPF"
      },
      "outputs": [],
      "source": [
        "equipoDeportista = deportistaOlimpicoRDD.map(lambda x :[x[-1], x[:-1]]).join(equiposOlimpicosRDD \\\n",
        "                                            .map(lambda x : [x[0],x[2]]))"
      ]
    },
    {
      "cell_type": "code",
      "execution_count": null,
      "metadata": {
        "id": "0ASUP1A_zQPG",
        "colab": {
          "base_uri": "https://localhost:8080/"
        },
        "outputId": "6cd94bc4-c01f-4c60-b976-ef38c821184e"
      },
      "outputs": [
        {
          "output_type": "execute_result",
          "data": {
            "text/plain": [
              "[('199', (['1', 'A Dijiang', '1', '24', '180', '80'], 'CHN'))]"
            ]
          },
          "metadata": {},
          "execution_count": 21
        }
      ],
      "source": [
        "equipoDeportista.take(1)\n"
      ]
    },
    {
      "cell_type": "code",
      "execution_count": null,
      "metadata": {
        "id": "YNBmieYBzQPG",
        "colab": {
          "base_uri": "https://localhost:8080/"
        },
        "outputId": "03fd821e-ff5a-48db-af63-5e51a93e4084"
      },
      "outputs": [
        {
          "output_type": "execute_result",
          "data": {
            "text/plain": [
              "PythonRDD[78] at RDD at PythonRDD.scala:53"
            ]
          },
          "metadata": {},
          "execution_count": 22
        }
      ],
      "source": [
        "equipoDeportista.map(lambda x : (x[1][0][0],x[1][0][1:],x[1][1]) )"
      ]
    },
    {
      "cell_type": "markdown",
      "metadata": {
        "id": "2zxGrdbGzQPG"
      },
      "source": [
        "### Carga de resultados\n",
        "\n",
        "Esta tabla posee las medallas que los jugadores han ganado"
      ]
    },
    {
      "cell_type": "code",
      "execution_count": null,
      "metadata": {
        "id": "JJIp94vWzQPG"
      },
      "outputs": [],
      "source": [
        "resultado = sc.textFile(\"/content/drive/MyDrive/Colab Notebooks/CSV/resultados.csv\").map(lambda line : line.split(\",\"))"
      ]
    },
    {
      "cell_type": "markdown",
      "metadata": {
        "id": "7AagekzDzQPG"
      },
      "source": [
        "Eliminamos todas las medallas no ganadoras y nos quedamos con el valor de la medalla y  del deportista_id"
      ]
    },
    {
      "cell_type": "code",
      "execution_count": null,
      "metadata": {
        "id": "c-lpm6EVzQPH"
      },
      "outputs": [],
      "source": [
        "resultadoGanador = resultado.filter(lambda l : 'NA' not in l[1])\n",
        "resultadoGanador = resultadoGanador.map(lambda l : [l[2],l[1]])"
      ]
    },
    {
      "cell_type": "code",
      "execution_count": null,
      "metadata": {
        "id": "Gbe00aAczQPH",
        "colab": {
          "base_uri": "https://localhost:8080/"
        },
        "outputId": "dfde77ee-4d82-4094-a033-ee2b108a90a9"
      },
      "outputs": [
        {
          "output_type": "execute_result",
          "data": {
            "text/plain": [
              "[['deportista_id', 'medalla'],\n",
              " ['4', 'Gold'],\n",
              " ['15', 'Bronze'],\n",
              " ['15', 'Bronze'],\n",
              " ['16', 'Bronze'],\n",
              " ['17', 'Bronze'],\n",
              " ['17', 'Gold'],\n",
              " ['17', 'Gold'],\n",
              " ['17', 'Gold'],\n",
              " ['17', 'Bronze'],\n",
              " ['20', 'Gold'],\n",
              " ['20', 'Bronze'],\n",
              " ['20', 'Silver'],\n",
              " ['20', 'Bronze'],\n",
              " ['20', 'Silver']]"
            ]
          },
          "metadata": {},
          "execution_count": 28
        }
      ],
      "source": [
        "resultadoGanador.take(15)"
      ]
    },
    {
      "cell_type": "markdown",
      "metadata": {
        "id": "_qSc4-5FzQPH"
      },
      "source": [
        "### Obtenemos la relación buscada: deportista,pais y medalla."
      ]
    },
    {
      "cell_type": "code",
      "execution_count": null,
      "metadata": {
        "id": "CG3xGTK6zQPH",
        "colab": {
          "base_uri": "https://localhost:8080/"
        },
        "outputId": "2150ebf6-77c6-4dbd-e3ae-3dadf971f27d"
      },
      "outputs": [
        {
          "output_type": "execute_result",
          "data": {
            "text/plain": [
              "[('716',\n",
              "  ((['553', 'John Charles Abrams', '1', '22', '183', '0'], 'NZL'), 'Gold'))]"
            ]
          },
          "metadata": {},
          "execution_count": 29
        }
      ],
      "source": [
        "jugadoresMedalla =  equipoDeportista.join(resultadoGanador)\n",
        "jugadoresMedalla.take(1)"
      ]
    },
    {
      "cell_type": "markdown",
      "metadata": {
        "id": "a8WuSmepzQPI"
      },
      "source": [
        "### Agrupamos las medallas respecto a la sigla del pais jugador"
      ]
    },
    {
      "cell_type": "code",
      "execution_count": null,
      "metadata": {
        "id": "lcUTb15DzQPJ",
        "colab": {
          "base_uri": "https://localhost:8080/"
        },
        "outputId": "b6eb4c03-f151-48c8-8df7-b2cad241ec71"
      },
      "outputs": [
        {
          "output_type": "execute_result",
          "data": {
            "text/plain": [
              "[('TCH', 4),\n",
              " ('NZL', 7),\n",
              " ('LES', 7),\n",
              " ('ITA', 7),\n",
              " ('ITA', 5),\n",
              " ('GER', 5),\n",
              " ('GER', 5),\n",
              " ('ITA', 4),\n",
              " ('RSA', 5),\n",
              " ('ITA', 5)]"
            ]
          },
          "metadata": {},
          "execution_count": 30
        }
      ],
      "source": [
        "d = {'Gold':7, 'Silver':5, 'Bronze':4}\n",
        "paisesMedallas = jugadoresMedalla.map(lambda x : (x[1][0][-1],d[x[1][1]]) )\n",
        "paisesMedallas.takeSample(False,10)"
      ]
    },
    {
      "cell_type": "markdown",
      "metadata": {
        "id": "skE05DhPzQPK"
      },
      "source": [
        "### Obtenemos los valores de los puntuajes históricos de los paises jugadores"
      ]
    },
    {
      "cell_type": "code",
      "execution_count": null,
      "metadata": {
        "id": "79MuLEmqzQPK",
        "colab": {
          "base_uri": "https://localhost:8080/"
        },
        "outputId": "088272ea-5569-424d-ef9c-0155cd5e04ca"
      },
      "outputs": [
        {
          "output_type": "execute_result",
          "data": {
            "text/plain": [
              "[('ITA', 74920),\n",
              " ('NED', 65560),\n",
              " ('GER', 22323),\n",
              " ('JPN', 19950),\n",
              " ('NZL', 9220),\n",
              " ('TCH', 8160),\n",
              " ('BLR', 5012),\n",
              " ('RSA', 4735),\n",
              " ('TUR', 3965),\n",
              " ('GHA', 3430)]"
            ]
          },
          "metadata": {},
          "execution_count": 31
        }
      ],
      "source": [
        "from operator import add\n",
        "conclusion = paisesMedallas.reduceByKey((add)).sortBy(lambda x : x[1],ascending=False)\n",
        "conclusion.take(10)"
      ]
    },
    {
      "cell_type": "markdown",
      "metadata": {
        "id": "na7avzcTzQPL"
      },
      "source": [
        "# Estadística básica sobre los RDDs"
      ]
    },
    {
      "cell_type": "markdown",
      "metadata": {
        "id": "txvDoGPhzQPL"
      },
      "source": [
        "Spark posee una suite integrada de forma natural para poder obtener estadísticas básicas."
      ]
    },
    {
      "cell_type": "code",
      "execution_count": null,
      "metadata": {
        "id": "TbTldbYHzQPL",
        "colab": {
          "base_uri": "https://localhost:8080/"
        },
        "outputId": "358f1cea-b467-41b7-8cad-5e194d46fea0"
      },
      "outputs": [
        {
          "output_type": "execute_result",
          "data": {
            "text/plain": [
              "(count: 65, mean: 3735.6153846153843, stdev: 12505.143665022015, max: 74920.0, min: 5.0)"
            ]
          },
          "metadata": {},
          "execution_count": 32
        }
      ],
      "source": [
        "conclusion.map(lambda l : l[1]).stats()"
      ]
    },
    {
      "cell_type": "code",
      "execution_count": null,
      "metadata": {
        "id": "jgmQCwq_zQPL",
        "colab": {
          "base_uri": "https://localhost:8080/"
        },
        "outputId": "af8b27ac-1098-4cb0-edf5-043ceb6ecc29"
      },
      "outputs": [
        {
          "output_type": "execute_result",
          "data": {
            "text/plain": [
              "3735.6153846153843"
            ]
          },
          "metadata": {},
          "execution_count": 33
        }
      ],
      "source": [
        "conclusion.map(lambda l : l [1]).mean()"
      ]
    },
    {
      "cell_type": "code",
      "execution_count": null,
      "metadata": {
        "id": "8kobm9iHzQPL",
        "colab": {
          "base_uri": "https://localhost:8080/"
        },
        "outputId": "2797b5f6-cfb1-4bcc-e35b-970c0721187a"
      },
      "outputs": [
        {
          "output_type": "execute_result",
          "data": {
            "text/plain": [
              "242815"
            ]
          },
          "metadata": {},
          "execution_count": 34
        }
      ],
      "source": [
        "conclusion.map(lambda l : l [1]).sum()"
      ]
    },
    {
      "cell_type": "code",
      "execution_count": null,
      "metadata": {
        "id": "6FOuFvAszQPM",
        "colab": {
          "base_uri": "https://localhost:8080/"
        },
        "outputId": "d84f4683-e9a4-468f-8ee8-2bcb7c2f64b7"
      },
      "outputs": [
        {
          "output_type": "execute_result",
          "data": {
            "text/plain": [
              "([5.0,\n",
              "  7496.5,\n",
              "  14988.0,\n",
              "  22479.5,\n",
              "  29971.0,\n",
              "  37462.5,\n",
              "  44954.0,\n",
              "  52445.5,\n",
              "  59937.0,\n",
              "  67428.5,\n",
              "  74920],\n",
              " [59, 2, 2, 0, 0, 0, 0, 0, 1, 1])"
            ]
          },
          "metadata": {},
          "execution_count": 35
        }
      ],
      "source": [
        "conclusion.map(lambda l : l [1]).histogram(10)"
      ]
    },
    {
      "cell_type": "markdown",
      "metadata": {
        "id": "wymqkE9zu61R"
      },
      "source": [
        "## Ejercicios Programación funcional"
      ]
    },
    {
      "cell_type": "markdown",
      "metadata": {
        "id": "BLMGps-pu2TZ"
      },
      "source": [
        "### Ejercicio 5\n",
        "**Escribir una función que aplique el IVA a un precio.**\n",
        "* Nombre de la función: apply_iva\n",
        "* Argumentos: precio, iva\n",
        "* Resultado: precio con iva aplicado\n",
        "\n",
        "\n",
        "* Prueba a llamar a la función\n"
      ]
    },
    {
      "cell_type": "code",
      "execution_count": null,
      "metadata": {
        "id": "mu6lIB0Fu2Ti",
        "colab": {
          "base_uri": "https://localhost:8080/"
        },
        "outputId": "be78d54d-2be6-4b3c-9589-82caac144b78"
      },
      "outputs": [
        {
          "output_type": "execute_result",
          "data": {
            "text/plain": [
              "30.25"
            ]
          },
          "metadata": {},
          "execution_count": 38
        }
      ],
      "source": [
        "#Inserta aquí tu código\n",
        "(lambda precio, iva: (precio*(iva/100))+precio)(25, 21)"
      ]
    },
    {
      "cell_type": "markdown",
      "metadata": {
        "id": "cf_bBDqUvvrH"
      },
      "source": [
        "### Ejercicio 6\n",
        "** Escribe una función que aplica la función cuadrado() a todos los elementos de una lista.**\n",
        "\n",
        "    Parámetros:\n",
        "        funcion: Recibe la función a aplicar.\n",
        "        lista: Es una lista con valores que se pasarán como argumentos a funcion.\n",
        "    Devuelve:\n",
        "        Una lista con el resultado de aplicar la función a los valores de la lista."
      ]
    },
    {
      "cell_type": "code",
      "execution_count": null,
      "metadata": {
        "id": "4OLzIg3cvvrI",
        "colab": {
          "base_uri": "https://localhost:8080/"
        },
        "outputId": "e560a4e1-7e5a-44e9-c47d-9ae5b70b072e"
      },
      "outputs": [
        {
          "output_type": "execute_result",
          "data": {
            "text/plain": [
              "[1, 4, 9, 16]"
            ]
          },
          "metadata": {},
          "execution_count": 43
        }
      ],
      "source": [
        "#Inserta aquí tu código\n",
        "list(map(lambda num : num**2, [1, 2, 3, 4]))"
      ]
    },
    {
      "cell_type": "code",
      "execution_count": null,
      "metadata": {
        "id": "H7vUWifkwQkf",
        "colab": {
          "base_uri": "https://localhost:8080/"
        },
        "outputId": "ec39bcc9-372d-4260-cf6f-56f0a3b76136"
      },
      "outputs": [
        {
          "output_type": "stream",
          "name": "stdout",
          "text": [
            "[1, 4, 9, 16]\n"
          ]
        }
      ],
      "source": [
        "def cuadrado(n):\n",
        "    return n * n\n",
        "\n",
        "print(list(map(cuadrado, [1, 2, 3, 4])))"
      ]
    },
    {
      "cell_type": "markdown",
      "metadata": {
        "id": "_1FP4aGdx4To"
      },
      "source": [
        "### Ejercicio 7\n",
        "**Detectar y corregir los errores del siguiente programa que aplica el iva a una factura:**\n"
      ]
    },
    {
      "cell_type": "code",
      "execution_count": null,
      "metadata": {
        "id": "V2TWrbVUx4Tp",
        "colab": {
          "base_uri": "https://localhost:8080/"
        },
        "outputId": "14eb06f4-5172-4064-f041-2adebe1091a8"
      },
      "outputs": [
        {
          "output_type": "stream",
          "name": "stdout",
          "text": [
            "Introduce la base imponible de la factura: 4\n",
            "4.84\n"
          ]
        }
      ],
      "source": [
        "base = int(input('Introduce la base imponible de la factura: '))\n",
        "iva = 21\n",
        "def aplica_iva(base, iva):\n",
        "    base = base * (iva/100)+ base   \n",
        "    return base \n",
        "\n",
        "print(aplica_iva(base, iva))"
      ]
    }
  ],
  "metadata": {
    "colab": {
      "provenance": []
    },
    "kernelspec": {
      "display_name": "Python 3",
      "language": "python",
      "name": "python3"
    },
    "language_info": {
      "codemirror_mode": {
        "name": "ipython",
        "version": 3
      },
      "file_extension": ".py",
      "mimetype": "text/x-python",
      "name": "python",
      "nbconvert_exporter": "python",
      "pygments_lexer": "ipython3",
      "version": "3.8.5"
    }
  },
  "nbformat": 4,
  "nbformat_minor": 0
}