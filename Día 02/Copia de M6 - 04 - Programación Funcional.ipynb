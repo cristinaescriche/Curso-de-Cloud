{
  "nbformat": 4,
  "nbformat_minor": 0,
  "metadata": {
    "colab": {
      "provenance": []
    },
    "kernelspec": {
      "name": "python3",
      "display_name": "Python 3"
    }
  },
  "cells": [
    {
      "cell_type": "markdown",
      "metadata": {
        "id": "nsEOLErx6WCf"
      },
      "source": [
        "# **Programacion funcional**\n",
        "\n",
        "Vamos a aprender a usar las **funciones lambda, map, filter y reduce**.\n",
        "\n",
        "Veremos los siguientes métodos:\n",
        "\n",
        "    1) Funciones lambda.\n",
        "    2) Metodos de la programacion funcional:      \n",
        "      - map\n",
        "      - filter\n",
        "      - reduce*\n",
        "\n",
        "### **Programacion funcional**\n",
        "\n",
        "Los programas escritos en un **lenguaje funcional** están constituidos unicamente por definiciones de **funciones**, entendiendo estas no como subprogramas clasicos de un lenguaje imperativo, sino como funciones puramente matematicas.\n",
        "\n",
        "<center>\n",
        "<img src=\"https://user-images.githubusercontent.com/16768318/73006022-d523bd00-3e01-11ea-8c1a-8ce4f5529158.png\" width=\"35%\">\n",
        "</center>\n",
        "\n",
        "### **Funciones lambda**\n",
        "\n",
        "Sirve para crear funciones anonimas. Ejemplo:\n"
      ]
    },
    {
      "cell_type": "code",
      "metadata": {
        "id": "TOTBARnt6Lhi"
      },
      "source": [
        "def doble(x):\n",
        "  return x**2"
      ],
      "execution_count": null,
      "outputs": []
    },
    {
      "cell_type": "code",
      "metadata": {
        "id": "gqz5TzS8_weU",
        "colab": {
          "base_uri": "https://localhost:8080/"
        },
        "outputId": "aeaabc8b-1496-4baf-9744-c5dfb9c7452c"
      },
      "source": [
        "doble(25)"
      ],
      "execution_count": null,
      "outputs": [
        {
          "output_type": "execute_result",
          "data": {
            "text/plain": [
              "625"
            ]
          },
          "metadata": {},
          "execution_count": 2
        }
      ]
    },
    {
      "cell_type": "code",
      "metadata": {
        "id": "QcVfQr-e_zBO"
      },
      "source": [
        "dobleAnonima = lambda x: x**2"
      ],
      "execution_count": null,
      "outputs": []
    },
    {
      "cell_type": "code",
      "metadata": {
        "id": "RcsrFRGG_7eN",
        "outputId": "0dae574d-2ff8-4fae-eb7a-38c3e367fff6",
        "colab": {
          "base_uri": "https://localhost:8080/"
        }
      },
      "source": [
        "dobleAnonima(25)"
      ],
      "execution_count": null,
      "outputs": [
        {
          "output_type": "execute_result",
          "data": {
            "text/plain": [
              "625"
            ]
          },
          "metadata": {},
          "execution_count": 4
        }
      ]
    },
    {
      "cell_type": "code",
      "source": [
        "(lambda x: x**2)(25)"
      ],
      "metadata": {
        "id": "Bvto8RY4sYme",
        "colab": {
          "base_uri": "https://localhost:8080/"
        },
        "outputId": "9c57bb1a-69d1-41f9-cb2d-513bb6ea4e65"
      },
      "execution_count": null,
      "outputs": [
        {
          "output_type": "execute_result",
          "data": {
            "text/plain": [
              "625"
            ]
          },
          "metadata": {},
          "execution_count": 5
        }
      ]
    },
    {
      "cell_type": "markdown",
      "source": [
        "### Ejercicio: \n",
        "Escribe una función anónima que de la vuelta a un String, guardala en una variable que se llame reverse_f.\n",
        "\n",
        "\n",
        "> Por ejemplo: Dado el string \"Hola\" debe devolver \"aloH\"\n",
        "\n"
      ],
      "metadata": {
        "id": "LNMouIAOsy9q"
      }
    },
    {
      "cell_type": "code",
      "metadata": {
        "id": "kHuKKQ7e_-rT",
        "colab": {
          "base_uri": "https://localhost:8080/",
          "height": 36
        },
        "outputId": "9f37c836-7bc1-4380-b5e8-719f863c5f7d"
      },
      "source": [
        "#Inserta Aquí tu código\n",
        "reverse_f = lambda cadena: cadena[::-1]\n",
        "reverse_f('hola')"
      ],
      "execution_count": null,
      "outputs": [
        {
          "output_type": "execute_result",
          "data": {
            "text/plain": [
              "'aloh'"
            ],
            "application/vnd.google.colaboratory.intrinsic+json": {
              "type": "string"
            }
          },
          "metadata": {},
          "execution_count": 6
        }
      ]
    },
    {
      "cell_type": "code",
      "metadata": {
        "id": "Xpb-b3xQLCOt",
        "outputId": "b02a627f-b0fd-4a7e-8136-c58a3390a5f9",
        "colab": {
          "base_uri": "https://localhost:8080/",
          "height": 36
        }
      },
      "source": [
        "reverse_f('hola')"
      ],
      "execution_count": null,
      "outputs": [
        {
          "output_type": "execute_result",
          "data": {
            "text/plain": [
              "'aloh'"
            ],
            "application/vnd.google.colaboratory.intrinsic+json": {
              "type": "string"
            }
          },
          "metadata": {},
          "execution_count": 7
        }
      ]
    },
    {
      "cell_type": "markdown",
      "metadata": {
        "id": "mZcdf3C-LGpm"
      },
      "source": [
        "### **Map**\n",
        "\n",
        "Aplica una condicion (definida por una funcion) sobretodos los elementos de una estructura de datos.\n",
        "<img src=\"https://leblancfg.com/img/map_function.png\" width=\"50%\">\n",
        "\n"
      ]
    },
    {
      "cell_type": "markdown",
      "metadata": {
        "id": "1bl4nKrkORx-"
      },
      "source": [
        "#### **Ejemplo 1**\n",
        "\n",
        "Convertir los valores de temperatura media de Celsius a Kelvin"
      ]
    },
    {
      "cell_type": "code",
      "metadata": {
        "id": "MJz1s2l_OC00"
      },
      "source": [
        "temp_C = [28, 32, 15, 26, 24, 30]"
      ],
      "execution_count": null,
      "outputs": []
    },
    {
      "cell_type": "code",
      "metadata": {
        "id": "CcJQUBdORJZF",
        "outputId": "b384d49d-b3af-4fae-a522-1ff6195abbd9",
        "colab": {
          "base_uri": "https://localhost:8080/"
        }
      },
      "source": [
        "# Programación imperativa\n",
        "temp_K = []\n",
        "for temp in temp_C:\n",
        "  new_temp = temp + 273.15\n",
        "  temp_K.append(new_temp) \n",
        "print(temp_K)   "
      ],
      "execution_count": null,
      "outputs": [
        {
          "output_type": "stream",
          "name": "stdout",
          "text": [
            "[301.15, 305.15, 288.15, 299.15, 297.15, 303.15]\n"
          ]
        }
      ]
    },
    {
      "cell_type": "code",
      "source": [
        "# Programación funcional\n",
        "def celsiusAKelvin(temperatura):\n",
        "  return temperatura + 273.15\n",
        "\n",
        "temp_K = list(map(celsiusAKelvin, temp_C))\n",
        "print(temp_K)"
      ],
      "metadata": {
        "id": "Sia0b4lmvqQG",
        "colab": {
          "base_uri": "https://localhost:8080/"
        },
        "outputId": "45f5225b-7944-442d-fbbc-56a027a3ca06"
      },
      "execution_count": null,
      "outputs": [
        {
          "output_type": "stream",
          "name": "stdout",
          "text": [
            "[301.15, 305.15, 288.15, 299.15, 297.15, 303.15]\n"
          ]
        }
      ]
    },
    {
      "cell_type": "code",
      "source": [
        "# Programación funcional avanzada usando funciones anónimas\n",
        "temp_K = list(map(lambda x : x+273.15, temp_C))\n",
        "print(temp_K)"
      ],
      "metadata": {
        "id": "DEvfO1AVvzvJ",
        "colab": {
          "base_uri": "https://localhost:8080/"
        },
        "outputId": "65939cdf-b176-4a02-d363-c1335fcc042c"
      },
      "execution_count": null,
      "outputs": [
        {
          "output_type": "stream",
          "name": "stdout",
          "text": [
            "[301.15, 305.15, 288.15, 299.15, 297.15, 303.15]\n"
          ]
        }
      ]
    },
    {
      "cell_type": "markdown",
      "metadata": {
        "id": "xRrjjwTrO4vc"
      },
      "source": [
        "#### **Ejercicio 2**\n",
        "Convertir estos nombres a mayúsculas"
      ]
    },
    {
      "cell_type": "code",
      "metadata": {
        "id": "cgIL58gOQo2M"
      },
      "source": [
        "mascotas_nombre_min = ['alfred', 'tabitha', 'william', 'arla']\n"
      ],
      "execution_count": null,
      "outputs": []
    },
    {
      "cell_type": "markdown",
      "source": [
        "Primero resuelve tu problema usando un bucle `for`\n",
        "\n",
        "\n",
        "*   INPUT/ENTRADA: Tienes que convertir en mayúscula todos los elementos de la lista `mascotas_nombre_min`\n",
        "*   OUTPUT/SALIDA: Los nombres en mayúsculas deberán estar en la lista `mascotas_nombre_may`\n",
        "* PISTA: Puedes añadir elemenetos a una lista con `append()` \n",
        "\n"
      ],
      "metadata": {
        "id": "PNhA9FrTuR26"
      }
    },
    {
      "cell_type": "code",
      "metadata": {
        "id": "mAVbl7f2N_Si",
        "outputId": "f0c587e4-2dd2-4d5c-ed71-651f33d09d10",
        "colab": {
          "base_uri": "https://localhost:8080/"
        }
      },
      "source": [
        "# Programación imperativa\n",
        "#Inserta Aquí tu código\n",
        "mascotas_nombre_may = []\n",
        "for i in mascotas_nombre_min:\n",
        "  mayus = i.upper()\n",
        "  mascotas_nombre_may.append(mayus)\n",
        "\n",
        "print(mascotas_nombre_may)"
      ],
      "execution_count": null,
      "outputs": [
        {
          "output_type": "stream",
          "name": "stdout",
          "text": [
            "['ALFRED', 'TABITHA', 'WILLIAM', 'ARLA']\n"
          ]
        }
      ]
    },
    {
      "cell_type": "markdown",
      "source": [
        "Ahora haz lo mismo pero sin un bucle for, ahora usando map()"
      ],
      "metadata": {
        "id": "dLiYY70roeA4"
      }
    },
    {
      "cell_type": "code",
      "metadata": {
        "id": "DYdUckemOWuW",
        "outputId": "98114723-84a3-444c-c473-e29a3b9c3ed8",
        "colab": {
          "base_uri": "https://localhost:8080/"
        }
      },
      "source": [
        "# Programación funcional\n",
        "#Inserta Aquí tu código\n",
        "def mayus(cadena):\n",
        "  return cadena.upper()\n",
        "\n",
        "mascotas_nombre_may = list(map(mayus, mascotas_nombre_min))\n",
        "print(mascotas_nombre_may)\n",
        "\n"
      ],
      "execution_count": null,
      "outputs": [
        {
          "output_type": "execute_result",
          "data": {
            "text/plain": [
              "[['ALFRED', 'TABITHA', 'WILLIAM', 'ARLA'],\n",
              " ['ALFRED', 'TABITHA', 'WILLIAM', 'ARLA'],\n",
              " ['ALFRED', 'TABITHA', 'WILLIAM', 'ARLA'],\n",
              " ['ALFRED', 'TABITHA', 'WILLIAM', 'ARLA']]"
            ]
          },
          "metadata": {},
          "execution_count": 17
        }
      ]
    },
    {
      "cell_type": "markdown",
      "metadata": {
        "id": "bn9eybKUUd1l"
      },
      "source": [
        "### **Filter**\n",
        "\n",
        "Mientras que **map()** pasa cada elemento del iterable a traves de una funcion y devuelve el resultado de todos los elementos que han pasado a traves de la funcion, **filter()**, en primer lugar, requiere que **la funcion devuelva valores booleanos (verdadero o falso)** y luego pasa cada elemento del iterable a traves de la funcion, **\"filtrando\" los que son falsos**. \n",
        "\n",
        "<img src=\"https://leblancfg.com/img/filter.png\" width=\"50%\">"
      ]
    },
    {
      "cell_type": "code",
      "metadata": {
        "id": "dDCGYR6yVnYK"
      },
      "source": [
        "# Filter\n",
        "numeros = [28, 32, 15, 26, 24, 30]"
      ],
      "execution_count": null,
      "outputs": []
    },
    {
      "cell_type": "code",
      "source": [
        "# Programación imperativa\n",
        "num_may_30 = []\n",
        "for num in numeros:\n",
        "  if num >= 30:\n",
        "    num_may_30.append(num) \n",
        "    \n",
        "print(num_may_30)   "
      ],
      "metadata": {
        "id": "leajA5w3wfyK",
        "colab": {
          "base_uri": "https://localhost:8080/"
        },
        "outputId": "54e79d2f-17c8-4c5d-d377-6cbc00bd2adc"
      },
      "execution_count": null,
      "outputs": [
        {
          "output_type": "stream",
          "name": "stdout",
          "text": [
            "[32, 30]\n"
          ]
        }
      ]
    },
    {
      "cell_type": "code",
      "source": [
        "# Programación funcional\n",
        "def numMayoresA30(numero):\n",
        "  if numero >= 30:\n",
        "    return True\n",
        "  else:\n",
        "    return False\n",
        "\n",
        "\n",
        "num_may_30 = list(filter(numMayoresA30, numeros))\n",
        "print(num_may_30)"
      ],
      "metadata": {
        "id": "qyBefSJDwtKc",
        "colab": {
          "base_uri": "https://localhost:8080/"
        },
        "outputId": "fab954bd-0ca3-4d34-d643-752d8c34e44d"
      },
      "execution_count": null,
      "outputs": [
        {
          "output_type": "stream",
          "name": "stdout",
          "text": [
            "[32, 30]\n"
          ]
        }
      ]
    },
    {
      "cell_type": "code",
      "metadata": {
        "id": "78a6jsnOZ13Y",
        "outputId": "1421bc1e-dc2b-41c1-9e34-9b54fc6ea2a7",
        "colab": {
          "base_uri": "https://localhost:8080/"
        }
      },
      "source": [
        "# Programación funcional avanzada usando funciones anónimas\n",
        "num_may_30 = list(filter(lambda temp:temp >= 30, numeros))\n",
        "print(num_may_30)"
      ],
      "execution_count": null,
      "outputs": [
        {
          "output_type": "stream",
          "name": "stdout",
          "text": [
            "[32, 30]\n"
          ]
        }
      ]
    },
    {
      "cell_type": "markdown",
      "metadata": {
        "id": "NcyxonXwoqF8"
      },
      "source": [
        "#### **Ejercicio 3**\n",
        "Escribir una función que reciba una frase (string) y devuelva una lista con las longitudes de cada palabra."
      ]
    },
    {
      "cell_type": "code",
      "metadata": {
        "id": "cwtf7KhNoqF9"
      },
      "source": [
        "frase = 'Welcome to Python'"
      ],
      "execution_count": null,
      "outputs": []
    },
    {
      "cell_type": "code",
      "source": [
        "#Inserta Aquí tu código\n",
        "def length_words(cadena):\n",
        "  lista = []\n",
        "  palabras = cadena.split()\n",
        "  indice= 0\n",
        "  for i in palabras:\n",
        "    longitud = len(palabras[indice])\n",
        "    lista.append(longitud)\n",
        "    indice += 1\n",
        "  return(lista)\n",
        "\n",
        "length_words(frase)"
      ],
      "metadata": {
        "id": "UXy_CRHGpJbo",
        "colab": {
          "base_uri": "https://localhost:8080/"
        },
        "outputId": "b6330103-4796-42ed-9fcc-f5f1ea3aef61"
      },
      "execution_count": null,
      "outputs": [
        {
          "output_type": "execute_result",
          "data": {
            "text/plain": [
              "[7, 2, 6]"
            ]
          },
          "metadata": {},
          "execution_count": 5
        }
      ]
    },
    {
      "cell_type": "markdown",
      "source": [
        "Comprueba tu respuesta, debe dar: [7, 2, 6]"
      ],
      "metadata": {
        "id": "jrUHW6BRo9_6"
      }
    },
    {
      "cell_type": "code",
      "source": [
        "print(length_words('Welcome to Python'))"
      ],
      "metadata": {
        "colab": {
          "base_uri": "https://localhost:8080/"
        },
        "id": "iRXGbTedpAyA",
        "outputId": "251d1a0e-d6be-4cd7-b0f3-ac4281e5a610"
      },
      "execution_count": null,
      "outputs": [
        {
          "output_type": "stream",
          "name": "stdout",
          "text": [
            "[7, 2, 6]\n"
          ]
        }
      ]
    },
    {
      "cell_type": "markdown",
      "metadata": {
        "id": "Xmq57J_2p7oD"
      },
      "source": [
        "#### **Ejercicio 4**\n",
        "Escribir una función que reciba una lista de números pares e impares y devuelve como resultado una lista solo con los números pares usando filter. Usa también la función dada check_even()."
      ]
    },
    {
      "cell_type": "code",
      "execution_count": 2,
      "metadata": {
        "collapsed": true,
        "id": "MWRq86JTJmSS"
      },
      "outputs": [],
      "source": [
        "def check_even(num):\n",
        "    return num % 2 == 0 "
      ]
    },
    {
      "cell_type": "code",
      "execution_count": 4,
      "metadata": {
        "collapsed": true,
        "id": "ZhtI3T3VJmSS"
      },
      "outputs": [],
      "source": [
        "nums = [0,1,2,3,4,5,6,7,8,9,10]"
      ]
    },
    {
      "cell_type": "code",
      "execution_count": 6,
      "metadata": {
        "id": "UmOddg-eJmST",
        "colab": {
          "base_uri": "https://localhost:8080/"
        },
        "outputId": "142d75db-85aa-4c95-a847-961b4e868041"
      },
      "outputs": [
        {
          "output_type": "execute_result",
          "data": {
            "text/plain": [
              "[0, 2, 4, 6, 8, 10]"
            ]
          },
          "metadata": {},
          "execution_count": 6
        }
      ],
      "source": [
        "#Inserta Aquí tu código\n",
        "list(filter(check_even, nums))\n"
      ]
    }
  ]
}